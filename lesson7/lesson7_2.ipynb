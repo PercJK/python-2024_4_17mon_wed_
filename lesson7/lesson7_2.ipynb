{
 "cells": [
  {
   "cell_type": "code",
   "execution_count": 4,
   "metadata": {},
   "outputs": [
    {
     "name": "stdout",
     "output_type": "stream",
     "text": [
      "小明已經存了30000元\n"
     ]
    }
   ],
   "source": [
    "#小明想要存錢買一輛機車,機車每輛30000元，他將每月存的錢輸入，當存款足夠買機車時，就顯示提示訊息告知。\n",
    "\n",
    "deposit = 0\n",
    "while deposit < 30000:\n",
    "    deposit += 10000\n",
    "    \n",
    "print(f\"小明已經存了{deposit}元\")"
   ]
  },
  {
   "cell_type": "code",
   "execution_count": 5,
   "metadata": {},
   "outputs": [
    {
     "name": "stdout",
     "output_type": "stream",
     "text": [
      "小明已經存了33000元\n"
     ]
    }
   ],
   "source": [
    "#小明想要存錢買一輛機車,機車每輛30000元，他將每月存的錢輸入，當存款足夠買機車時，就顯示提示訊息告知。\n",
    "\n",
    "deposit = 0\n",
    "while deposit < 30000:\n",
    "    deposit += 11000\n",
    "    \n",
    "print(f\"小明已經存了{deposit}元\")"
   ]
  },
  {
   "cell_type": "markdown",
   "metadata": {},
   "source": [
    "### 先存20000再存10000"
   ]
  },
  {
   "cell_type": "code",
   "execution_count": 7,
   "metadata": {},
   "outputs": [
    {
     "name": "stdout",
     "output_type": "stream",
     "text": [
      "請輸入這個月存入的金額:20000\n",
      "請輸入這個月存入的金額:10000\n",
      "最後一次存的金額是:10000\n",
      "小明已經存了30000元\n"
     ]
    }
   ],
   "source": [
    "#小明想要存錢買一輛機車,機車每輛30000元，他將每月存的錢輸入，當存款足夠買機車時，就顯示提示訊息告知。\n",
    "\n",
    "import pyinputplus as pyip\n",
    "deposit = 0\n",
    "while deposit < 30000:\n",
    "    input_money = pyip.inputInt(\"請輸入這個月存入的金額:\")\n",
    "    print(input_money)\n",
    "    deposit += input_money\n",
    "print(f\"最後一次存的金額是:{input_money}\")\n",
    "print(f\"小明已經存了{deposit}元\")"
   ]
  }
 ],
 "metadata": {
  "kernelspec": {
   "display_name": "Python 3",
   "language": "python",
   "name": "python3"
  },
  "language_info": {
   "codemirror_mode": {
    "name": "ipython",
    "version": 3
   },
   "file_extension": ".py",
   "mimetype": "text/x-python",
   "name": "python",
   "nbconvert_exporter": "python",
   "pygments_lexer": "ipython3",
   "version": "3.10.14"
  }
 },
 "nbformat": 4,
 "nbformat_minor": 2
}
