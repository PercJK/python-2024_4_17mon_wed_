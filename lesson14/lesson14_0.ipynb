{
 "cells": [
  {
   "cell_type": "code",
   "execution_count": null,
   "metadata": {},
   "outputs": [
    {
     "ename": "",
     "evalue": "",
     "output_type": "error",
     "traceback": [
      "\u001b[1;31m執行具有 'base (Python 3.12.3)' 的儲存格需要 ipykernel 套件。\n",
      "\u001b[1;31m執行下列命令以將 'ipykernel' 安裝到 Python 環境中。\n",
      "\u001b[1;31m命令: 'conda install -n base ipykernel --update-deps --force-reinstall'"
     ]
    }
   ],
   "source": [
    "from pydantic import RootModel\n",
    "\n",
    "class Pets(RootModel):\n",
    "    root: list[str]\n",
    "\n",
    "    def __iter__(self):\n",
    "        return iter(self.root)\n",
    "\n",
    "    def __getitem__(self, item):\n",
    "        return self.root[item]\n",
    "    \n",
    "pets = Pets.model_validate(['dog', 'cat'])\n",
    "for pet in pets:\n",
    "    print(pet)\n",
    "\n",
    "pets[0]"
   ]
  },
  {
   "cell_type": "code",
   "execution_count": null,
   "metadata": {},
   "outputs": [],
   "source": [
    "#實作for_in迴圈,__iter__(self),必需傳出interator物件,使用iter()會傳出iter的物件\n",
    "def __iter__(self):\n",
    "        return iter(self.root)\n",
    "\n",
    "#實作subscript[]\n",
    "def __getitem__(self, item):\n",
    "        return self.root[item]"
   ]
  },
  {
   "cell_type": "markdown",
   "metadata": {},
   "source": [
    "### 作業解答"
   ]
  },
  {
   "cell_type": "code",
   "execution_count": null,
   "metadata": {},
   "outputs": [],
   "source": [
    "import re\n",
    "\n",
    "phone_num = input('請輸入手機號碼(xxx) xxx-xxxx: ')\n",
    "phoneNumRegex = re.compile(r'\\(\\d{3}\\) \\d{3}-\\d{4}')\n",
    "match1 = phoneNumRegex.match(phone_num)\n",
    "if match1 is not None:\n",
    "    print(f'{match1.group()}: 格式符合')\n",
    "else:\n",
    "    print('格式不符')"
   ]
  },
  {
   "cell_type": "code",
   "execution_count": null,
   "metadata": {},
   "outputs": [],
   "source": [
    "import re\n",
    "\n",
    "phone_num = input('請輸入手機號碼(xxx) xxx-xxxx: ')\n",
    "phoneNumRegex = re.compile(r'\\(\\d{3}\\) \\d{3}-\\d{4}')\n",
    "match1 = phoneNumRegex.match(phone_num)\n",
    "if match1 is not None:\n",
    "    print(f'{match1.group()}: 格式符合')\n",
    "else:\n",
    "    print('格式不符')"
   ]
  },
  {
   "cell_type": "code",
   "execution_count": null,
   "metadata": {},
   "outputs": [],
   "source": [
    "date = input('請輸入日期yyyy-mm-dd: ')\n",
    "dateRegex = re.compile(r'\\d{4}-(0[1-9]|1[0-2])-(0[1-9]|[12][0-9]|3[01])')\n",
    "match2 = dateRegex.match(date)\n",
    "if match2 is not None:\n",
    "    print(f'{match2.group()}: 格式符合')\n",
    "else:\n",
    "    print('格式不符')"
   ]
  },
  {
   "cell_type": "code",
   "execution_count": null,
   "metadata": {},
   "outputs": [
    {
     "ename": "",
     "evalue": "",
     "output_type": "error",
     "traceback": [
      "\u001b[1;31m執行具有 'base (Python 3.12.3)' 的儲存格需要 ipykernel 套件。\n",
      "\u001b[1;31m執行下列命令以將 'ipykernel' 安裝到 Python 環境中。\n",
      "\u001b[1;31m命令: 'conda install -n base ipykernel --update-deps --force-reinstall'"
     ]
    }
   ],
   "source": [
    "date = input('請輸入日期yyyy-mm-dd: ')\n",
    "dateRegex = re.compile(r'\\d{4}-(0[1-9]|1[0-2])-(0[1-9]|[12][0-9]|3[01])')\n",
    "match2 = dateRegex.match(date)\n",
    "if match2 is not None:\n",
    "    print(f'{match2.group()}: 格式符合')\n",
    "else:\n",
    "    print('格式不符')"
   ]
  }
 ],
 "metadata": {
  "kernelspec": {
   "display_name": "base",
   "language": "python",
   "name": "python3"
  },
  "language_info": {
   "name": "python",
   "version": "3.12.3"
  }
 },
 "nbformat": 4,
 "nbformat_minor": 2
}
