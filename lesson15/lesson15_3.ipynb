{
 "cells": [
  {
   "cell_type": "code",
   "execution_count": 1,
   "metadata": {},
   "outputs": [
    {
     "name": "stdout",
     "output_type": "stream",
     "text": [
      "0\n",
      "1\n",
      "2\n",
      "3\n",
      "4\n"
     ]
    }
   ],
   "source": [
    "student1 = [69, 78, 72, 91, 85]\n",
    "student2 = [75, 92, 92, 76, 92]\n",
    "\n",
    "for i in range(len(student1)):\n",
    "    print(i)"
   ]
  },
  {
   "cell_type": "code",
   "execution_count": null,
   "metadata": {},
   "outputs": [],
   "source": [
    "student1 = [69, 78, 72, 91, 85]\n",
    "student2 = [75, 92, 92, 76, 92]"
   ]
  },
  {
   "cell_type": "code",
   "execution_count": 1,
   "metadata": {},
   "outputs": [
    {
     "name": "stdout",
     "output_type": "stream",
     "text": [
      "144\n",
      "===============\n",
      "170\n",
      "===============\n",
      "164\n",
      "===============\n",
      "167\n",
      "===============\n",
      "177\n",
      "===============\n"
     ]
    }
   ],
   "source": [
    "student1 = [69, 78, 72, 91, 85]\n",
    "student2 = [75, 92, 92, 76, 92]\n",
    "\n",
    "for i in range(len(student1)):\n",
    "    scores = student1[i] + student2[i]\n",
    "    print(scores)\n",
    "    print(\"===============\")\n"
   ]
  },
  {
   "cell_type": "code",
   "execution_count": 3,
   "metadata": {},
   "outputs": [
    {
     "data": {
      "text/plain": [
       "[69, 78, 72, 91, 85, 75, 92, 92, 76, 92]"
      ]
     },
     "execution_count": 3,
     "metadata": {},
     "output_type": "execute_result"
    }
   ],
   "source": [
    "student1 = [69, 78, 72, 91, 85]\n",
    "student2 = [75, 92, 92, 76, 92]\n",
    "\n",
    "student1 + student2"
   ]
  },
  {
   "cell_type": "code",
   "execution_count": 3,
   "metadata": {},
   "outputs": [],
   "source": [
    "import numpy as np"
   ]
  },
  {
   "cell_type": "code",
   "execution_count": 4,
   "metadata": {},
   "outputs": [
    {
     "name": "stdout",
     "output_type": "stream",
     "text": [
      "144\n",
      "=========\n",
      "170\n",
      "=========\n",
      "164\n",
      "=========\n",
      "167\n",
      "=========\n",
      "177\n",
      "=========\n"
     ]
    }
   ],
   "source": [
    "import numpy as np\n",
    "from numpy import ndarray\n",
    "student1:ndarray = np.array([69, 78, 72, 91, 85])\n",
    "student2:ndarray = np.array([75, 92, 92, 76, 92])\n",
    "\n",
    "#可以做陣列運算,不需使用for...in\n",
    "totals:ndarray= student1 + student2\n",
    "for total in totals:\n",
    "    print(total)\n",
    "    print(\"=========\")"
   ]
  },
  {
   "cell_type": "code",
   "execution_count": 5,
   "metadata": {},
   "outputs": [
    {
     "data": {
      "text/plain": [
       "array([[1, 2, 3],\n",
       "       [4, 5, 6]])"
      ]
     },
     "execution_count": 5,
     "metadata": {},
     "output_type": "execute_result"
    }
   ],
   "source": [
    "array:ndarray = np.array([[1,2,3],[4,5,6]])\n",
    "array"
   ]
  },
  {
   "cell_type": "code",
   "execution_count": 6,
   "metadata": {},
   "outputs": [
    {
     "name": "stdout",
     "output_type": "stream",
     "text": [
      "[[1 2 3]\n",
      " [4 5 6]]\n",
      "2\n",
      "(2, 3)\n",
      "6\n",
      "int32\n"
     ]
    }
   ],
   "source": [
    "array:ndarray = np.array([[1,2,3],[4,5,6]])\n",
    "print(array)\n",
    "#property\n",
    "#ndim,shape,size,dtype\n",
    "\n",
    "print(array.ndim)\n",
    "print(array.shape)\n",
    "print(array.size)\n",
    "print(array.dtype)"
   ]
  },
  {
   "cell_type": "code",
   "execution_count": 8,
   "metadata": {},
   "outputs": [
    {
     "data": {
      "text/plain": [
       "array([[ 74,  66,  55,  86,  61],\n",
       "       [ 93,  56,  69,  77,  59],\n",
       "       [ 74,  65,  99,  77,  73],\n",
       "       [ 79,  98,  68, 100,  70],\n",
       "       [ 63,  63,  87,  55,  84],\n",
       "       [ 59,  54,  83,  55,  75],\n",
       "       [ 95,  70,  73,  54,  96],\n",
       "       [ 96,  82,  77,  79,  58],\n",
       "       [ 82,  88,  59,  54,  90],\n",
       "       [ 82,  73,  88,  96,  61],\n",
       "       [ 69,  62,  53,  72,  69],\n",
       "       [ 76,  95,  63,  62,  55],\n",
       "       [ 86,  56,  57,  58,  61],\n",
       "       [ 60,  88,  51,  98,  51],\n",
       "       [ 76,  65,  97,  74,  57],\n",
       "       [ 99,  54,  51,  82,  74],\n",
       "       [ 65,  85,  96,  87,  97],\n",
       "       [ 59,  57,  83,  67,  96],\n",
       "       [ 55,  92,  93,  80,  77],\n",
       "       [ 95, 100,  95,  60,  86],\n",
       "       [ 58,  80,  83,  56,  51],\n",
       "       [ 91,  52,  90,  83,  52],\n",
       "       [ 85,  98,  60,  89,  76],\n",
       "       [ 53,  85,  56,  64,  55],\n",
       "       [ 76,  51, 100,  56,  67],\n",
       "       [ 89,  90,  99,  76,  58],\n",
       "       [ 83,  54,  69,  61,  72],\n",
       "       [ 58,  54,  58,  70,  90],\n",
       "       [ 82,  78,  87, 100,  66],\n",
       "       [ 73,  87,  93,  77,  69],\n",
       "       [ 62,  54,  74, 100,  99],\n",
       "       [100,  62,  79,  60,  97],\n",
       "       [ 69,  85,  56,  66,  60],\n",
       "       [ 79,  51,  73,  53,  55],\n",
       "       [ 76,  88,  75,  52,  69],\n",
       "       [ 55,  71,  81,  55,  72],\n",
       "       [ 59,  56,  87,  77,  64],\n",
       "       [ 94,  69,  88,  62,  84],\n",
       "       [ 87,  79,  91,  85,  69],\n",
       "       [ 55,  71,  96,  99,  65],\n",
       "       [ 92,  64,  68,  69, 100],\n",
       "       [ 95,  91,  54,  59,  99],\n",
       "       [ 54,  81,  91,  89,  51],\n",
       "       [ 90,  98,  88, 100,  68],\n",
       "       [ 70,  66,  80,  59,  90],\n",
       "       [ 66,  50,  90,  55,  97],\n",
       "       [ 60,  84,  54,  78,  95],\n",
       "       [ 91,  67,  99,  72,  52],\n",
       "       [ 50,  51,  86,  52,  99],\n",
       "       [ 74,  76,  98,  87,  70]])"
      ]
     },
     "execution_count": 8,
     "metadata": {},
     "output_type": "execute_result"
    }
   ],
   "source": [
    "np.random.randint(50,101,size=(50, 5))"
   ]
  }
 ],
 "metadata": {
  "kernelspec": {
   "display_name": "base",
   "language": "python",
   "name": "python3"
  },
  "language_info": {
   "codemirror_mode": {
    "name": "ipython",
    "version": 3
   },
   "file_extension": ".py",
   "mimetype": "text/x-python",
   "name": "python",
   "nbconvert_exporter": "python",
   "pygments_lexer": "ipython3",
   "version": "3.12.3"
  }
 },
 "nbformat": 4,
 "nbformat_minor": 2
}
