{
 "cells": [
  {
   "cell_type": "code",
   "execution_count": 1,
   "metadata": {},
   "outputs": [
    {
     "name": "stdout",
     "output_type": "stream",
     "text": [
      "0\n",
      "1\n",
      "2\n",
      "3\n",
      "4\n"
     ]
    }
   ],
   "source": [
    "student1 = [69, 78, 72, 91, 85]\n",
    "student2 = [75, 92, 92, 76, 92]\n",
    "\n",
    "for i in range(len(student1)):\n",
    "    print(i)"
   ]
  },
  {
   "cell_type": "code",
   "execution_count": 6,
   "metadata": {},
   "outputs": [
    {
     "name": "stdout",
     "output_type": "stream",
     "text": [
      "144\n",
      "===============\n",
      "170\n",
      "===============\n",
      "164\n",
      "===============\n",
      "167\n",
      "===============\n",
      "177\n",
      "===============\n"
     ]
    }
   ],
   "source": [
    "student1 = [69, 78, 72, 91, 85]\n",
    "student2 = [75, 92, 92, 76, 92]\n",
    "\n",
    "for i in range(len(student1)):\n",
    "    scores = student1[i] + student2[i]\n",
    "    print(scores)\n",
    "    print(\"===============\")"
   ]
  },
  {
   "cell_type": "code",
   "execution_count": 3,
   "metadata": {},
   "outputs": [
    {
     "data": {
      "text/plain": [
       "[69, 78, 72, 91, 85, 75, 92, 92, 76, 92]"
      ]
     },
     "execution_count": 3,
     "metadata": {},
     "output_type": "execute_result"
    }
   ],
   "source": [
    "student1 = [69, 78, 72, 91, 85]\n",
    "student2 = [75, 92, 92, 76, 92]\n",
    "\n",
    "student1 + student2\n"
   ]
  },
  {
   "cell_type": "code",
   "execution_count": 4,
   "metadata": {},
   "outputs": [],
   "source": [
    "import numpy as np"
   ]
  },
  {
   "cell_type": "code",
   "execution_count": 5,
   "metadata": {},
   "outputs": [
    {
     "data": {
      "text/plain": [
       "numpy.ndarray"
      ]
     },
     "execution_count": 5,
     "metadata": {},
     "output_type": "execute_result"
    }
   ],
   "source": [
    "import numpy as np\n",
    "\n",
    "student1:ndarray = np.array([69, 78, 72, 91, 85])\n",
    "student2:ndarray = np.array([75, 92, 92, 76, 92])\n",
    "type(student1)"
   ]
  },
  {
   "cell_type": "code",
   "execution_count": 6,
   "metadata": {},
   "outputs": [
    {
     "name": "stdout",
     "output_type": "stream",
     "text": [
      "144\n",
      "=========\n",
      "170\n",
      "=========\n",
      "164\n",
      "=========\n",
      "167\n",
      "=========\n",
      "177\n",
      "=========\n"
     ]
    }
   ],
   "source": [
    "import numpy as np\n",
    "from numpy import ndarray\n",
    "student1:ndarray = np.array([69, 78, 72, 91, 85])\n",
    "student2:ndarray = np.array([75, 92, 92, 76, 92])\n",
    "\n",
    "#可以做陣列運算,不需使用for...in\n",
    "totals:ndarray= student1 + student2\n",
    "for total in totals:\n",
    "    print(total)\n",
    "    print(\"=========\")"
   ]
  },
  {
   "cell_type": "code",
   "execution_count": 8,
   "metadata": {},
   "outputs": [
    {
     "data": {
      "text/plain": [
       "array([[1, 2, 3],\n",
       "       [4, 5, 6]])"
      ]
     },
     "execution_count": 8,
     "metadata": {},
     "output_type": "execute_result"
    }
   ],
   "source": [
    "array:ndarray = np.array([[1,2,3],[4,5,6]])\n",
    "array"
   ]
  },
  {
   "cell_type": "code",
   "execution_count": 9,
   "metadata": {},
   "outputs": [
    {
     "name": "stdout",
     "output_type": "stream",
     "text": [
      "[[1 2 3]\n",
      " [4 5 6]]\n",
      "2\n",
      "(2, 3)\n",
      "6\n",
      "int64\n"
     ]
    }
   ],
   "source": [
    "array:ndarray = np.array([[1,2,3],[4,5,6]])\n",
    "print(array)\n",
    "#property\n",
    "#ndim,shape,size,dtype\n",
    "\n",
    "print(array.ndim)\n",
    "print(array.shape)\n",
    "print(array.size)\n",
    "print(array.dtype)"
   ]
  },
  {
   "cell_type": "code",
   "execution_count": 11,
   "metadata": {},
   "outputs": [
    {
     "data": {
      "text/plain": [
       "array([[ 88,  70,  74,  71,  85],\n",
       "       [ 90,  50,  71,  79,  50],\n",
       "       [ 65,  98,  94,  94,  86],\n",
       "       [ 81,  67,  98,  80,  97],\n",
       "       [ 50,  51,  74,  62,  76],\n",
       "       [ 52,  63,  91,  96,  86],\n",
       "       [ 57,  81,  91,  87,  68],\n",
       "       [ 68,  97,  65,  89,  76],\n",
       "       [ 96,  61,  77,  70,  60],\n",
       "       [ 69,  93,  99,  71,  89],\n",
       "       [ 79,  65,  51,  72,  88],\n",
       "       [ 70,  95,  68,  91,  85],\n",
       "       [ 83,  72,  96,  92,  81],\n",
       "       [ 92,  65,  61,  58,  66],\n",
       "       [ 67,  57,  65,  98,  85],\n",
       "       [ 98,  73,  93,  86,  97],\n",
       "       [ 97,  71,  71,  90, 100],\n",
       "       [ 87,  91,  69,  70,  53],\n",
       "       [ 86,  71,  84,  53,  60],\n",
       "       [ 76,  72,  74,  63,  52],\n",
       "       [ 57,  55,  73,  79,  91],\n",
       "       [ 82,  53,  78,  59,  65],\n",
       "       [ 62,  81,  67,  83,  80],\n",
       "       [ 62,  99,  69,  97,  77],\n",
       "       [ 99,  87,  94,  99,  72],\n",
       "       [ 77,  73,  70,  93,  90],\n",
       "       [ 50,  84,  69,  69,  67],\n",
       "       [ 97, 100,  66,  84,  60],\n",
       "       [ 87,  77,  52,  98,  78],\n",
       "       [ 70,  91,  69,  65, 100],\n",
       "       [ 55,  76,  70,  74,  87],\n",
       "       [ 61,  71,  59,  59,  84],\n",
       "       [ 63,  56,  73,  68,  90],\n",
       "       [ 53,  82,  72,  90,  65],\n",
       "       [ 67,  81,  72,  59,  87],\n",
       "       [ 57,  53,  96,  57,  95],\n",
       "       [ 62,  50,  79,  95,  62],\n",
       "       [ 50,  96,  54,  90,  69],\n",
       "       [ 80,  70,  81,  91,  51],\n",
       "       [ 84,  92,  83,  77,  66],\n",
       "       [ 80,  94,  92,  67,  82],\n",
       "       [ 92,  97,  87,  90,  56],\n",
       "       [ 53,  64,  95,  57,  58],\n",
       "       [ 79,  85,  60,  91,  99],\n",
       "       [ 66,  66,  85, 100,  82],\n",
       "       [ 61,  86,  74,  86,  71],\n",
       "       [ 70,  50,  51,  71,  70],\n",
       "       [ 95,  66,  99,  75,  70],\n",
       "       [ 62,  95,  81,  51,  55],\n",
       "       [ 59,  60,  65,  56,  57]])"
      ]
     },
     "execution_count": 11,
     "metadata": {},
     "output_type": "execute_result"
    }
   ],
   "source": [
    "np.random.randint(50,101,size=(50, 5))"
   ]
  }
 ],
 "metadata": {
  "kernelspec": {
   "display_name": "Python 3",
   "language": "python",
   "name": "python3"
  },
  "language_info": {
   "codemirror_mode": {
    "name": "ipython",
    "version": 3
   },
   "file_extension": ".py",
   "mimetype": "text/x-python",
   "name": "python",
   "nbconvert_exporter": "python",
   "pygments_lexer": "ipython3",
   "version": "3.10.14"
  }
 },
 "nbformat": 4,
 "nbformat_minor": 2
}
