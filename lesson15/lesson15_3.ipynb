{
 "cells": [
  {
   "cell_type": "code",
   "execution_count": 6,
   "metadata": {},
   "outputs": [
    {
     "name": "stdout",
     "output_type": "stream",
     "text": [
      "144\n",
      "===============\n",
      "170\n",
      "===============\n",
      "164\n",
      "===============\n",
      "167\n",
      "===============\n",
      "177\n",
      "===============\n"
     ]
    }
   ],
   "source": [
    "student1 = [69, 78, 72, 91, 85]\n",
    "student2 = [75, 92, 92, 76, 92]\n",
    "\n",
    "for i in range(len(student1)):\n",
    "    scores = student1[i] + student2[i]\n",
    "    print(scores)\n",
    "    print(\"===============\")"
   ]
  },
  {
   "cell_type": "code",
   "execution_count": 5,
   "metadata": {},
   "outputs": [
    {
     "data": {
      "text/plain": [
       "[69, 78, 72, 91, 85, 75, 92, 92, 76, 92]"
      ]
     },
     "execution_count": 5,
     "metadata": {},
     "output_type": "execute_result"
    }
   ],
   "source": [
    "student1 = [69, 78, 72, 91, 85]\n",
    "student2 = [75, 92, 92, 76, 92]\n",
    "\n",
    "student1 + student2\n"
   ]
  },
  {
   "cell_type": "code",
   "execution_count": 7,
   "metadata": {},
   "outputs": [
    {
     "name": "stdout",
     "output_type": "stream",
     "text": [
      "144\n",
      "=========\n",
      "170\n",
      "=========\n",
      "164\n",
      "=========\n",
      "167\n",
      "=========\n",
      "177\n",
      "=========\n"
     ]
    }
   ],
   "source": [
    "import numpy as np\n",
    "from numpy import ndarray\n",
    "student1:ndarray = np.array([69, 78, 72, 91, 85])\n",
    "student2:ndarray = np.array([75, 92, 92, 76, 92])\n",
    "\n",
    "#可以做陣列運算,不需使用for...in\n",
    "totols:ndarray= student1 + student2\n",
    "for total in totols:\n",
    "    print(total)\n",
    "    print(\"=========\")"
   ]
  },
  {
   "cell_type": "code",
   "execution_count": 8,
   "metadata": {},
   "outputs": [
    {
     "name": "stdout",
     "output_type": "stream",
     "text": [
      "[[1 2 3]\n",
      " [4 5 6]]\n",
      "2\n",
      "(2, 3)\n",
      "6\n",
      "int64\n"
     ]
    }
   ],
   "source": [
    "array:ndarray = np.array([[1,2,3],[4,5,6]])\n",
    "print(array)\n",
    "#property\n",
    "#ndim,shape,size,dtype\n",
    "\n",
    "print(array.ndim)\n",
    "print(array.shape)\n",
    "print(array.size)\n",
    "print(array.dtype)"
   ]
  },
  {
   "cell_type": "code",
   "execution_count": 9,
   "metadata": {},
   "outputs": [
    {
     "data": {
      "text/plain": [
       "array([[ 86,  93,  74,  98,  59],\n",
       "       [ 90,  90,  70,  71,  59],\n",
       "       [ 75,  97,  76,  67,  87],\n",
       "       [ 67,  83,  78,  85,  78],\n",
       "       [ 90,  53,  66,  68,  84],\n",
       "       [ 54,  63,  95,  59,  87],\n",
       "       [ 89,  96,  73,  90,  59],\n",
       "       [ 86,  94,  84,  94,  62],\n",
       "       [ 85,  61,  75,  93,  96],\n",
       "       [ 86,  91,  99,  79,  71],\n",
       "       [ 93,  81,  81,  93, 100],\n",
       "       [ 88,  98,  82,  74,  50],\n",
       "       [ 94,  97, 100,  88,  55],\n",
       "       [ 61,  74,  90, 100,  87],\n",
       "       [ 55,  68,  82,  92,  70],\n",
       "       [ 81,  91,  70,  58,  54],\n",
       "       [ 54,  90,  98,  67,  85],\n",
       "       [100,  91,  94,  76,  66],\n",
       "       [ 81,  88,  55,  54,  87],\n",
       "       [ 81,  77,  90,  63,  66],\n",
       "       [ 80,  75,  80,  83,  91],\n",
       "       [ 59,  73,  76,  53,  97],\n",
       "       [ 71,  57,  94,  75,  93],\n",
       "       [ 77,  61,  91,  54,  53],\n",
       "       [ 60,  81,  56,  87,  88],\n",
       "       [ 98,  83,  74,  81,  83],\n",
       "       [ 57,  76,  91,  94,  73],\n",
       "       [ 62,  89,  89,  68,  54],\n",
       "       [ 65,  76,  68,  66,  94],\n",
       "       [ 58,  57,  81,  60,  87],\n",
       "       [ 73,  51,  80,  56,  51],\n",
       "       [ 75,  70,  56,  85,  65],\n",
       "       [ 85,  81,  76,  80,  83],\n",
       "       [ 99,  71,  82,  98,  76],\n",
       "       [ 50,  98,  53,  76,  99],\n",
       "       [ 60,  81,  77,  75,  73],\n",
       "       [ 67,  90,  70,  61,  75],\n",
       "       [ 98,  79, 100,  79,  85],\n",
       "       [ 93, 100,  73,  57,  52],\n",
       "       [ 58,  94,  96,  54,  69],\n",
       "       [ 85,  98,  97,  87,  91],\n",
       "       [ 97,  59,  87,  91,  69],\n",
       "       [ 93,  73,  75,  85,  89],\n",
       "       [ 91,  68,  76,  55,  84],\n",
       "       [ 80,  85,  72,  91,  50],\n",
       "       [100,  78,  70,  65,  57],\n",
       "       [ 74,  80,  81,  54,  65],\n",
       "       [ 93,  85,  84,  78,  55],\n",
       "       [ 51,  67,  91,  62,  81],\n",
       "       [ 87,  73,  61,  84,  64]])"
      ]
     },
     "execution_count": 9,
     "metadata": {},
     "output_type": "execute_result"
    }
   ],
   "source": [
    "np.random.randint(50,101,size=(50, 5))"
   ]
  }
 ],
 "metadata": {
  "kernelspec": {
   "display_name": "Python 3",
   "language": "python",
   "name": "python3"
  },
  "language_info": {
   "codemirror_mode": {
    "name": "ipython",
    "version": 3
   },
   "file_extension": ".py",
   "mimetype": "text/x-python",
   "name": "python",
   "nbconvert_exporter": "python",
   "pygments_lexer": "ipython3",
   "version": "3.10.14"
  }
 },
 "nbformat": 4,
 "nbformat_minor": 2
}
