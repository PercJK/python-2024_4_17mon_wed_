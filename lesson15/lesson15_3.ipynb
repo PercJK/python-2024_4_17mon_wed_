{
 "cells": [
  {
   "cell_type": "code",
   "execution_count": 1,
   "metadata": {},
   "outputs": [
    {
     "name": "stdout",
     "output_type": "stream",
     "text": [
      "0\n",
      "1\n",
      "2\n",
      "3\n",
      "4\n"
     ]
    }
   ],
   "source": [
    "student1 = [69, 78, 72, 91, 85]\n",
    "student2 = [75, 92, 92, 76, 92]\n",
    "\n",
    "for i in range(len(student1)):\n",
    "    print(i)"
   ]
  },
  {
   "cell_type": "code",
   "execution_count": null,
   "metadata": {},
   "outputs": [],
   "source": [
    "student1 = [69, 78, 72, 91, 85]\n",
    "student2 = [75, 92, 92, 76, 92]"
   ]
  },
  {
   "cell_type": "code",
   "execution_count": 1,
   "metadata": {},
   "outputs": [
    {
     "name": "stdout",
     "output_type": "stream",
     "text": [
      "144\n",
      "===============\n",
      "170\n",
      "===============\n",
      "164\n",
      "===============\n",
      "167\n",
      "===============\n",
      "177\n",
      "===============\n"
     ]
    }
   ],
   "source": [
    "student1 = [69, 78, 72, 91, 85]\n",
    "student2 = [75, 92, 92, 76, 92]\n",
    "\n",
    "for i in range(len(student1)):\n",
    "    scores = student1[i] + student2[i]\n",
    "    print(scores)\n",
    "    print(\"===============\")\n"
   ]
  },
  {
   "cell_type": "code",
   "execution_count": 3,
   "metadata": {},
   "outputs": [
    {
     "data": {
      "text/plain": [
       "[69, 78, 72, 91, 85, 75, 92, 92, 76, 92]"
      ]
     },
     "execution_count": 3,
     "metadata": {},
     "output_type": "execute_result"
    }
   ],
   "source": [
    "student1 = [69, 78, 72, 91, 85]\n",
    "student2 = [75, 92, 92, 76, 92]\n",
    "\n",
    "student1 + student2"
   ]
  },
  {
   "cell_type": "code",
   "execution_count": 2,
   "metadata": {},
   "outputs": [],
   "source": [
    "import numpy as np"
   ]
  },
  {
   "cell_type": "code",
   "execution_count": 3,
   "metadata": {},
   "outputs": [
    {
     "name": "stdout",
     "output_type": "stream",
     "text": [
      "144\n",
      "=========\n",
      "170\n",
      "=========\n",
      "164\n",
      "=========\n",
      "167\n",
      "=========\n",
      "177\n",
      "=========\n"
     ]
    }
   ],
   "source": [
    "import numpy as np\n",
    "from numpy import ndarray\n",
    "student1:ndarray = np.array([69, 78, 72, 91, 85])\n",
    "student2:ndarray = np.array([75, 92, 92, 76, 92])\n",
    "\n",
    "#可以做陣列運算,不需使用for...in\n",
    "totals:ndarray= student1 + student2\n",
    "for total in totals:\n",
    "    print(total)\n",
    "    print(\"=========\")"
   ]
  },
  {
   "cell_type": "code",
   "execution_count": 4,
   "metadata": {},
   "outputs": [
    {
     "data": {
      "text/plain": [
       "array([[1, 2, 3],\n",
       "       [4, 5, 6]])"
      ]
     },
     "execution_count": 4,
     "metadata": {},
     "output_type": "execute_result"
    }
   ],
   "source": [
    "array:ndarray = np.array([[1,2,3],[4,5,6]])\n",
    "array"
   ]
  },
  {
   "cell_type": "code",
   "execution_count": 5,
   "metadata": {},
   "outputs": [
    {
     "name": "stdout",
     "output_type": "stream",
     "text": [
      "[[1 2 3]\n",
      " [4 5 6]]\n",
      "2\n",
      "(2, 3)\n",
      "6\n",
      "int32\n"
     ]
    }
   ],
   "source": [
    "array:ndarray = np.array([[1,2,3],[4,5,6]])\n",
    "print(array)\n",
    "#property\n",
    "#ndim,shape,size,dtype\n",
    "\n",
    "print(array.ndim)\n",
    "print(array.shape)\n",
    "print(array.size)\n",
    "print(array.dtype)"
   ]
  },
  {
   "cell_type": "code",
   "execution_count": 6,
   "metadata": {},
   "outputs": [
    {
     "data": {
      "text/plain": [
       "array([[ 54,  97,  89,  96,  94],\n",
       "       [ 75,  97,  63,  72,  67],\n",
       "       [ 91,  50,  68,  76,  74],\n",
       "       [ 57,  52,  63,  75,  85],\n",
       "       [ 86,  68,  91,  82, 100],\n",
       "       [ 95,  63,  67,  77,  63],\n",
       "       [ 91,  85,  74,  74,  86],\n",
       "       [ 78,  99,  76,  69,  77],\n",
       "       [ 72,  98,  78,  81,  89],\n",
       "       [ 86,  72,  56,  90,  71],\n",
       "       [ 86,  64,  79,  85,  64],\n",
       "       [ 78,  83,  53,  86,  86],\n",
       "       [ 56,  96,  96,  92,  50],\n",
       "       [ 90,  63,  55,  85,  67],\n",
       "       [ 81, 100,  79,  86,  86],\n",
       "       [ 50,  72,  93,  80,  74],\n",
       "       [ 73,  57,  72,  81,  92],\n",
       "       [ 58,  88,  70,  54,  86],\n",
       "       [ 63,  62,  50,  53,  68],\n",
       "       [ 98,  59,  91,  99,  75],\n",
       "       [ 85,  57,  51,  81,  73],\n",
       "       [ 77,  60,  56,  99,  81],\n",
       "       [100,  52,  54,  68,  84],\n",
       "       [ 98,  90,  78,  50,  62],\n",
       "       [ 81,  77,  95,  53,  76],\n",
       "       [ 80,  71,  81,  59,  59],\n",
       "       [ 99,  50,  56,  79,  85],\n",
       "       [ 95,  96,  66,  90,  70],\n",
       "       [ 76,  94,  71,  53,  60],\n",
       "       [ 72,  52,  85,  78,  96],\n",
       "       [ 63,  80,  79,  73,  83],\n",
       "       [ 98,  66,  87,  86,  54],\n",
       "       [ 63,  69,  61,  87,  56],\n",
       "       [ 70, 100,  60,  92,  61],\n",
       "       [ 57, 100,  51, 100,  51],\n",
       "       [ 86,  79,  99,  55,  91],\n",
       "       [ 94,  56,  64,  92,  95],\n",
       "       [ 94,  71,  98,  51,  69],\n",
       "       [ 64,  98,  89,  63,  93],\n",
       "       [ 96,  59,  84,  53,  50],\n",
       "       [ 90,  97,  78,  71,  57],\n",
       "       [ 57,  62,  57,  80,  79],\n",
       "       [ 73,  90,  90,  96,  74],\n",
       "       [ 76,  83,  88,  54,  53],\n",
       "       [ 86,  99,  92,  52,  72],\n",
       "       [ 60,  92,  76, 100,  50],\n",
       "       [ 53,  90,  78,  76,  61],\n",
       "       [ 77,  83,  62,  69,  95],\n",
       "       [ 94,  56,  96,  84,  63],\n",
       "       [ 52,  56,  73,  98,  51]])"
      ]
     },
     "execution_count": 6,
     "metadata": {},
     "output_type": "execute_result"
    }
   ],
   "source": [
    "np.random.randint(50,101,size=(50, 5))"
   ]
  }
 ],
 "metadata": {
  "kernelspec": {
   "display_name": "base",
   "language": "python",
   "name": "python3"
  },
  "language_info": {
   "codemirror_mode": {
    "name": "ipython",
    "version": 3
   },
   "file_extension": ".py",
   "mimetype": "text/x-python",
   "name": "python",
   "nbconvert_exporter": "python",
   "pygments_lexer": "ipython3",
   "version": "3.12.3"
  }
 },
 "nbformat": 4,
 "nbformat_minor": 2
}
