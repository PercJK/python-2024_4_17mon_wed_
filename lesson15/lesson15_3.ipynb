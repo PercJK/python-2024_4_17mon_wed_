{
 "cells": [
  {
   "cell_type": "code",
   "execution_count": 1,
   "metadata": {},
   "outputs": [
    {
     "name": "stdout",
     "output_type": "stream",
     "text": [
      "144\n",
      "===============\n",
      "170\n",
      "===============\n",
      "164\n",
      "===============\n",
      "167\n",
      "===============\n",
      "177\n",
      "===============\n"
     ]
    }
   ],
   "source": [
    "student1 = [69, 78, 72, 91, 85]\n",
    "student2 = [75, 92, 92, 76, 92]\n",
    "\n",
    "for i in range(len(student1)):\n",
    "    scores = student1[i] + student2[i]\n",
    "    print(scores)\n",
    "    print(\"===============\")\n"
   ]
  },
  {
   "cell_type": "code",
   "execution_count": 3,
   "metadata": {},
   "outputs": [
    {
     "data": {
      "text/plain": [
       "[69, 78, 72, 91, 85, 75, 92, 92, 76, 92]"
      ]
     },
     "execution_count": 3,
     "metadata": {},
     "output_type": "execute_result"
    }
   ],
   "source": [
    "student1 = [69, 78, 72, 91, 85]\n",
    "student2 = [75, 92, 92, 76, 92]\n",
    "\n",
    "student1 + student2"
   ]
  },
  {
   "cell_type": "code",
   "execution_count": 4,
   "metadata": {},
   "outputs": [
    {
     "name": "stdout",
     "output_type": "stream",
     "text": [
      "144\n",
      "=========\n",
      "170\n",
      "=========\n",
      "164\n",
      "=========\n",
      "167\n",
      "=========\n",
      "177\n",
      "=========\n"
     ]
    }
   ],
   "source": [
    "import numpy as np\n",
    "from numpy import ndarray\n",
    "student1:ndarray = np.array([69, 78, 72, 91, 85])\n",
    "student2:ndarray = np.array([75, 92, 92, 76, 92])\n",
    "\n",
    "#可以做陣列運算,不需使用for...in\n",
    "totols:ndarray= student1 + student2\n",
    "for total in totols:\n",
    "    print(total)\n",
    "    print(\"=========\")"
   ]
  },
  {
   "cell_type": "code",
   "execution_count": 5,
   "metadata": {},
   "outputs": [
    {
     "name": "stdout",
     "output_type": "stream",
     "text": [
      "[[1 2 3]\n",
      " [4 5 6]]\n",
      "2\n",
      "(2, 3)\n",
      "6\n",
      "int32\n"
     ]
    }
   ],
   "source": [
    "array:ndarray = np.array([[1,2,3],[4,5,6]])\n",
    "print(array)\n",
    "#property\n",
    "#ndim,shape,size,dtype\n",
    "\n",
    "print(array.ndim)\n",
    "print(array.shape)\n",
    "print(array.size)\n",
    "print(array.dtype)"
   ]
  },
  {
   "cell_type": "code",
   "execution_count": 6,
   "metadata": {},
   "outputs": [
    {
     "data": {
      "text/plain": [
       "array([[ 97,  79,  90,  57,  93],\n",
       "       [ 70,  63,  63,  60,  98],\n",
       "       [ 89,  56,  96,  74,  65],\n",
       "       [ 72,  56,  72,  54,  71],\n",
       "       [ 67,  93,  94,  70,  86],\n",
       "       [ 66, 100,  85,  77,  80],\n",
       "       [100,  91,  65,  91,  92],\n",
       "       [ 98,  53,  60,  96,  86],\n",
       "       [ 62,  89,  70,  78,  58],\n",
       "       [ 84,  56,  66,  78,  91],\n",
       "       [ 59,  62,  51,  52,  61],\n",
       "       [ 59,  87,  98,  90,  57],\n",
       "       [ 92,  87,  69,  98,  57],\n",
       "       [ 60,  87,  81,  51,  75],\n",
       "       [ 97,  62,  80,  76,  51],\n",
       "       [ 67,  72,  81,  55,  88],\n",
       "       [ 93,  67,  80,  90,  85],\n",
       "       [ 92,  50,  67,  68,  77],\n",
       "       [ 87,  65,  93,  55,  85],\n",
       "       [ 62,  82,  84,  84,  55],\n",
       "       [ 99,  55,  83,  51,  62],\n",
       "       [ 98,  73, 100,  57,  82],\n",
       "       [ 97,  76,  65,  71,  94],\n",
       "       [ 63,  70,  91,  87,  87],\n",
       "       [ 51,  82,  61,  64,  81],\n",
       "       [ 86,  55,  62,  96,  77],\n",
       "       [ 66,  82,  94,  66,  77],\n",
       "       [ 99,  77,  67,  64,  98],\n",
       "       [ 85,  66,  54,  85,  80],\n",
       "       [ 73,  59,  87,  80,  52],\n",
       "       [ 56,  61,  76,  58,  65],\n",
       "       [ 87,  99,  70,  79,  90],\n",
       "       [ 80,  89,  53,  63,  70],\n",
       "       [ 61,  65,  77,  86,  92],\n",
       "       [ 85,  78,  66,  99,  80],\n",
       "       [ 53,  70,  60,  86,  66],\n",
       "       [100,  67,  92,  54,  94],\n",
       "       [ 98,  59,  57,  81,  62],\n",
       "       [ 68,  92,  87,  51,  91],\n",
       "       [ 77,  94,  98,  75,  50],\n",
       "       [ 96,  87,  74,  60,  83],\n",
       "       [ 97,  67,  74,  60,  57],\n",
       "       [ 52,  71,  60,  65,  66],\n",
       "       [ 91,  81,  84,  80,  54],\n",
       "       [ 72,  76,  73,  81,  57],\n",
       "       [ 72,  97,  52,  73,  85],\n",
       "       [ 62,  82,  75,  84,  68],\n",
       "       [ 79,  93,  70,  80,  95],\n",
       "       [ 94,  66,  58,  59,  69],\n",
       "       [ 91,  91,  67,  96,  92]])"
      ]
     },
     "execution_count": 6,
     "metadata": {},
     "output_type": "execute_result"
    }
   ],
   "source": [
    "np.random.randint(50,101,size=(50, 5))"
   ]
  }
 ],
 "metadata": {
  "kernelspec": {
   "display_name": "base",
   "language": "python",
   "name": "python3"
  },
  "language_info": {
   "codemirror_mode": {
    "name": "ipython",
    "version": 3
   },
   "file_extension": ".py",
   "mimetype": "text/x-python",
   "name": "python",
   "nbconvert_exporter": "python",
   "pygments_lexer": "ipython3",
   "version": "3.12.3"
  }
 },
 "nbformat": 4,
 "nbformat_minor": 2
}
