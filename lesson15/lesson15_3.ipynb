{
 "cells": [
  {
   "cell_type": "code",
   "execution_count": 1,
   "metadata": {},
   "outputs": [
    {
     "name": "stdout",
     "output_type": "stream",
     "text": [
      "0\n",
      "1\n",
      "2\n",
      "3\n",
      "4\n"
     ]
    }
   ],
   "source": [
    "student1 = [69, 78, 72, 91, 85]\n",
    "student2 = [75, 92, 92, 76, 92]\n",
    "\n",
    "for i in range(len(student1)):\n",
    "    print(i)"
   ]
  },
  {
   "cell_type": "code",
   "execution_count": 2,
   "metadata": {},
   "outputs": [
    {
     "name": "stdout",
     "output_type": "stream",
     "text": [
      "144\n",
      "===============\n",
      "170\n",
      "===============\n",
      "164\n",
      "===============\n",
      "167\n",
      "===============\n",
      "177\n",
      "===============\n"
     ]
    }
   ],
   "source": [
    "student1 = [69, 78, 72, 91, 85]\n",
    "student2 = [75, 92, 92, 76, 92]\n",
    "\n",
    "for i in range(len(student1)):\n",
    "    scores = student1[i] + student2[i]\n",
    "    print(scores)\n",
    "    print(\"===============\")"
   ]
  },
  {
   "cell_type": "code",
   "execution_count": 3,
   "metadata": {},
   "outputs": [
    {
     "data": {
      "text/plain": [
       "[69, 78, 72, 91, 85, 75, 92, 92, 76, 92]"
      ]
     },
     "execution_count": 3,
     "metadata": {},
     "output_type": "execute_result"
    }
   ],
   "source": [
    "student1 = [69, 78, 72, 91, 85]\n",
    "student2 = [75, 92, 92, 76, 92]\n",
    "\n",
    "student1 + student2"
   ]
  },
  {
   "cell_type": "code",
   "execution_count": 4,
   "metadata": {},
   "outputs": [],
   "source": [
    "import numpy as np"
   ]
  },
  {
   "cell_type": "code",
   "execution_count": 7,
   "metadata": {},
   "outputs": [
    {
     "data": {
      "text/plain": [
       "numpy.ndarray"
      ]
     },
     "execution_count": 7,
     "metadata": {},
     "output_type": "execute_result"
    }
   ],
   "source": [
    "import numpy as np\n",
    "\n",
    "student1:ndarray = np.array([69, 78, 72, 91, 85])\n",
    "student2:ndarray = np.array([75, 92, 92, 76, 92])\n",
    "type(student1)"
   ]
  },
  {
   "cell_type": "code",
   "execution_count": 8,
   "metadata": {},
   "outputs": [
    {
     "name": "stdout",
     "output_type": "stream",
     "text": [
      "144\n",
      "=========\n",
      "170\n",
      "=========\n",
      "164\n",
      "=========\n",
      "167\n",
      "=========\n",
      "177\n",
      "=========\n"
     ]
    }
   ],
   "source": [
    "import numpy as np\n",
    "from numpy import ndarray\n",
    "student1:ndarray = np.array([69, 78, 72, 91, 85])\n",
    "student2:ndarray = np.array([75, 92, 92, 76, 92])\n",
    "\n",
    "#可以做陣列運算,不需使用for...in\n",
    "totals:ndarray= student1 + student2\n",
    "for total in totals:\n",
    "    print(total)\n",
    "    print(\"=========\")"
   ]
  },
  {
   "cell_type": "code",
   "execution_count": 10,
   "metadata": {},
   "outputs": [
    {
     "data": {
      "text/plain": [
       "array([[1, 2, 3],\n",
       "       [4, 5, 6]])"
      ]
     },
     "execution_count": 10,
     "metadata": {},
     "output_type": "execute_result"
    }
   ],
   "source": [
    "array:ndarray = np.array([[1,2,3],[4,5,6]])\n",
    "array"
   ]
  },
  {
   "cell_type": "code",
   "execution_count": 9,
   "metadata": {},
   "outputs": [
    {
     "name": "stdout",
     "output_type": "stream",
     "text": [
      "[[1 2 3]\n",
      " [4 5 6]]\n",
      "2\n",
      "(2, 3)\n",
      "6\n",
      "int64\n"
     ]
    }
   ],
   "source": [
    "array:ndarray = np.array([[1,2,3],[4,5,6]])\n",
    "print(array)\n",
    "#property\n",
    "#ndim,shape,size,dtype\n",
    "\n",
    "print(array.ndim)\n",
    "print(array.shape)\n",
    "print(array.size)\n",
    "print(array.dtype)"
   ]
  },
  {
   "cell_type": "code",
   "execution_count": 11,
   "metadata": {},
   "outputs": [
    {
     "data": {
      "text/plain": [
       "array([[ 74,  73,  63,  79,  57],\n",
       "       [ 61,  88,  53,  98,  57],\n",
       "       [ 51,  62,  79,  80,  84],\n",
       "       [ 78,  89,  93,  87,  93],\n",
       "       [ 98,  52,  95,  73,  51],\n",
       "       [ 98,  98,  62,  70,  59],\n",
       "       [ 95,  99,  54,  53,  76],\n",
       "       [ 91,  96,  85,  62,  56],\n",
       "       [ 64,  68,  89,  71,  77],\n",
       "       [ 69,  80,  62,  93,  86],\n",
       "       [ 77,  62,  62,  97,  54],\n",
       "       [ 57,  76,  65,  61,  67],\n",
       "       [ 83,  51,  62,  70,  82],\n",
       "       [ 89,  69,  63,  55,  99],\n",
       "       [ 52,  82,  75,  81,  73],\n",
       "       [ 50,  56,  90,  50,  93],\n",
       "       [ 99,  99,  84,  51,  70],\n",
       "       [ 97,  58,  75,  98,  73],\n",
       "       [ 78,  92,  97,  94,  65],\n",
       "       [ 94,  67,  79,  60,  91],\n",
       "       [ 73,  91,  97,  96,  63],\n",
       "       [ 81,  98,  62,  89,  76],\n",
       "       [ 62,  90,  82,  98,  94],\n",
       "       [ 91,  51,  88,  65,  86],\n",
       "       [ 93,  60,  59,  72,  94],\n",
       "       [ 57,  84,  97,  54,  60],\n",
       "       [ 58,  63,  50,  66,  74],\n",
       "       [ 85,  56,  58,  63,  64],\n",
       "       [ 72,  89,  64,  84,  59],\n",
       "       [ 69,  51,  50,  80,  83],\n",
       "       [ 87,  78,  64,  95,  95],\n",
       "       [ 78,  87,  87,  78,  77],\n",
       "       [ 76,  94, 100,  91,  89],\n",
       "       [ 97,  79,  83,  65,  51],\n",
       "       [ 88,  73,  71,  53,  96],\n",
       "       [ 81,  56,  98,  91,  71],\n",
       "       [ 82,  97,  57,  65,  98],\n",
       "       [ 83,  74,  61,  68,  84],\n",
       "       [ 77,  95,  77,  61,  80],\n",
       "       [ 62,  83,  51,  73,  72],\n",
       "       [ 77,  78,  60,  67,  99],\n",
       "       [ 86,  53,  79,  92,  80],\n",
       "       [ 67,  57,  83,  57,  76],\n",
       "       [ 51,  79,  61,  95,  92],\n",
       "       [ 76,  90,  60,  79,  59],\n",
       "       [ 85,  54,  53,  76,  65],\n",
       "       [ 76,  59,  66,  83,  87],\n",
       "       [ 64,  52,  52,  91,  92],\n",
       "       [ 76,  82,  52,  99,  82],\n",
       "       [ 55,  60,  52,  79,  95]])"
      ]
     },
     "execution_count": 11,
     "metadata": {},
     "output_type": "execute_result"
    }
   ],
   "source": [
    "np.random.randint(50,101,size=(50, 5))\n"
   ]
  },
  {
   "cell_type": "code",
   "execution_count": null,
   "metadata": {},
   "outputs": [],
   "source": []
  }
 ],
 "metadata": {
  "kernelspec": {
   "display_name": "Python 3",
   "language": "python",
   "name": "python3"
  },
  "language_info": {
   "codemirror_mode": {
    "name": "ipython",
    "version": 3
   },
   "file_extension": ".py",
   "mimetype": "text/x-python",
   "name": "python",
   "nbconvert_exporter": "python",
   "pygments_lexer": "ipython3",
   "version": "3.10.14"
  }
 },
 "nbformat": 4,
 "nbformat_minor": 2
}
