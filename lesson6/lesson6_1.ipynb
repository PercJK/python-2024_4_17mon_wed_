{
 "cells": [
  {
   "cell_type": "code",
   "execution_count": 1,
   "metadata": {},
   "outputs": [
    {
     "name": "stdout",
     "output_type": "stream",
     "text": [
      "優\n"
     ]
    }
   ],
   "source": [
    "#0~180~220\n",
    "scores = int(input(\"請輸入學生分數(最高300分)\"))\n",
    "if scores >= 220:\n",
    "    print(\"優\")\n",
    "else:\n",
    "    if scores >= 180:\n",
    "        print(\"甲\")\n",
    "    else:\n",
    "        print(\"不及格\")"
   ]
  },
  {
   "cell_type": "code",
   "execution_count": 2,
   "metadata": {},
   "outputs": [
    {
     "name": "stdout",
     "output_type": "stream",
     "text": [
      "甲\n"
     ]
    }
   ],
   "source": [
    "#0~180~220\n",
    "scores = int(input(\"請輸入學生分數(最高300分)\"))\n",
    "if scores >= 220:\n",
    "    print(\"優\")\n",
    "else:\n",
    "    if scores >= 180:\n",
    "        print(\"甲\")\n",
    "    else:\n",
    "        print(\"不及格\")"
   ]
  },
  {
   "cell_type": "code",
   "execution_count": 11,
   "metadata": {},
   "outputs": [
    {
     "name": "stdout",
     "output_type": "stream",
     "text": [
      "不及格\n"
     ]
    }
   ],
   "source": [
    "#0~180~220\n",
    "scores = int(input(\"請輸入學生分數(最高300分)\"))\n",
    "\n",
    "#多項選擇,3個只會執行其中一個\n",
    "if scores >= 220:\n",
    "    print(\"優\")\n",
    "elif scores >= 180:\n",
    "    print(\"甲\")\n",
    "else:\n",
    "    print(\"不及格\")"
   ]
  },
  {
   "cell_type": "code",
   "execution_count": 12,
   "metadata": {},
   "outputs": [
    {
     "name": "stdout",
     "output_type": "stream",
     "text": [
      "優\n"
     ]
    },
    {
     "ename": "Exception",
     "evalue": "學生分數必需同時小於300",
     "output_type": "error",
     "traceback": [
      "\u001b[0;31m---------------------------------------------------------------------------\u001b[0m",
      "\u001b[0;31mException\u001b[0m                                 Traceback (most recent call last)",
      "Cell \u001b[0;32mIn[12], line 11\u001b[0m\n\u001b[1;32m      9\u001b[0m \u001b[38;5;28;01melse\u001b[39;00m:\n\u001b[1;32m     10\u001b[0m     \u001b[38;5;28mprint\u001b[39m(\u001b[38;5;124m\"\u001b[39m\u001b[38;5;124m不及格\u001b[39m\u001b[38;5;124m\"\u001b[39m)\n\u001b[0;32m---> 11\u001b[0m \u001b[38;5;28;01mraise\u001b[39;00m \u001b[38;5;167;01mException\u001b[39;00m(\u001b[38;5;124m\"\u001b[39m\u001b[38;5;124m學生分數必需同時小於300\u001b[39m\u001b[38;5;124m\"\u001b[39m)\n",
      "\u001b[0;31mException\u001b[0m: 學生分數必需同時小於300"
     ]
    }
   ],
   "source": [
    "#0~180~220\n",
    "scores = int(input(\"請輸入學生分數(最高300分)\")) \n",
    "\n",
    "#多項選擇,3個只會執行其中一個\n",
    "if scores >= 220:\n",
    "    print(\"優\")\n",
    "elif scores >= 180:\n",
    "    print(\"甲\")\n",
    "else:\n",
    "    print(\"不及格\")\n",
    "raise Exception(\"學生分數必需同時小於300\")"
   ]
  },
  {
   "cell_type": "code",
   "execution_count": 19,
   "metadata": {},
   "outputs": [
    {
     "name": "stdout",
     "output_type": "stream",
     "text": [
      "優\n"
     ]
    }
   ],
   "source": [
    "#90(含)~100分為「優」\n",
    "#80(含)~89分為「甲」\n",
    "#70(含)~79分為「乙」\n",
    "#60(含)~69分為「丙」\n",
    "#0(含)~59分為「丁」\n",
    "score = int(input(\"請輸入學生分數:\"))\n",
    "\n",
    "if score<60:\n",
    "    grade = '丁'\n",
    "elif score<70:\n",
    "    grade = '丙'\n",
    "elif score<80:\n",
    "    grade = '乙'\n",
    "elif score<90:\n",
    "    grade = '甲'\n",
    "else:\n",
    "    grade = '優'\n",
    "\n",
    "print(grade)"
   ]
  },
  {
   "cell_type": "code",
   "execution_count": 20,
   "metadata": {},
   "outputs": [
    {
     "name": "stdout",
     "output_type": "stream",
     "text": [
      "甲\n"
     ]
    }
   ],
   "source": [
    "#90(含)~100分為「優」\n",
    "#80(含)~89分為「甲」\n",
    "#70(含)~79分為「乙」\n",
    "#60(含)~69分為「丙」\n",
    "#0(含)~59分為「丁」\n",
    "score = int(input(\"請輸入學生分數:\"))\n",
    "\n",
    "if score<60:\n",
    "    grade = '丁'\n",
    "elif score<70:\n",
    "    grade = '丙'\n",
    "elif score<80:\n",
    "    grade = '乙'\n",
    "elif score<90:\n",
    "    grade = '甲'\n",
    "else:\n",
    "    grade = '優'\n",
    "\n",
    "print(grade)"
   ]
  },
  {
   "cell_type": "code",
   "execution_count": 21,
   "metadata": {},
   "outputs": [
    {
     "name": "stdout",
     "output_type": "stream",
     "text": [
      "乙\n"
     ]
    }
   ],
   "source": [
    "#90(含)~100分為「優」\n",
    "#80(含)~89分為「甲」\n",
    "#70(含)~79分為「乙」\n",
    "#60(含)~69分為「丙」\n",
    "#0(含)~59分為「丁」\n",
    "score = int(input(\"請輸入學生分數:\"))\n",
    "\n",
    "if score<60:\n",
    "    grade = '丁'\n",
    "elif score<70:\n",
    "    grade = '丙'\n",
    "elif score<80:\n",
    "    grade = '乙'\n",
    "elif score<90:\n",
    "    grade = '甲'\n",
    "else:\n",
    "    grade = '優'\n",
    "\n",
    "print(grade)"
   ]
  },
  {
   "cell_type": "code",
   "execution_count": 22,
   "metadata": {},
   "outputs": [
    {
     "name": "stdout",
     "output_type": "stream",
     "text": [
      "丙\n"
     ]
    }
   ],
   "source": [
    "#90(含)~100分為「優」\n",
    "#80(含)~89分為「甲」\n",
    "#70(含)~79分為「乙」\n",
    "#60(含)~69分為「丙」\n",
    "#0(含)~59分為「丁」\n",
    "score = int(input(\"請輸入學生分數:\"))\n",
    "\n",
    "if score<60:\n",
    "    grade = '丁'\n",
    "elif score<70:\n",
    "    grade = '丙'\n",
    "elif score<80:\n",
    "    grade = '乙'\n",
    "elif score<90:\n",
    "    grade = '甲'\n",
    "else:\n",
    "    grade = '優'\n",
    "\n",
    "print(grade)"
   ]
  },
  {
   "cell_type": "code",
   "execution_count": 23,
   "metadata": {},
   "outputs": [
    {
     "name": "stdout",
     "output_type": "stream",
     "text": [
      "丁\n"
     ]
    }
   ],
   "source": [
    "#90(含)~100分為「優」\n",
    "#80(含)~89分為「甲」\n",
    "#70(含)~79分為「乙」\n",
    "#60(含)~69分為「丙」\n",
    "#0(含)~59分為「丁」\n",
    "score = int(input(\"請輸入學生分數:\"))\n",
    "\n",
    "if score<60:\n",
    "    grade = '丁'\n",
    "elif score<70:\n",
    "    grade = '丙'\n",
    "elif score<80:\n",
    "    grade = '乙'\n",
    "elif score<90:\n",
    "    grade = '甲'\n",
    "else:\n",
    "    grade = '優'\n",
    "\n",
    "print(grade)"
   ]
  },
  {
   "cell_type": "markdown",
   "metadata": {},
   "source": [
    "### 作業"
   ]
  },
  {
   "cell_type": "code",
   "execution_count": 31,
   "metadata": {},
   "outputs": [
    {
     "ename": "SyntaxError",
     "evalue": "expected 'except' or 'finally' block (3125000169.py, line 11)",
     "output_type": "error",
     "traceback": [
      "\u001b[0;36m  Cell \u001b[0;32mIn[31], line 11\u001b[0;36m\u001b[0m\n\u001b[0;31m    BMI = int(input(\"BMI:\"))\u001b[0m\n\u001b[0m    ^\u001b[0m\n\u001b[0;31mSyntaxError\u001b[0m\u001b[0;31m:\u001b[0m expected 'except' or 'finally' block\n"
     ]
    }
   ],
   "source": [
    "try:\n",
    "    name = input('請輸入姓名:')\n",
    "    height = float(input('請輸入身高(120~230)(cm):')) \n",
    "    if height<120 or height>230:\n",
    "        raise Exception(\"身高必需大於120同時小於230\")    \n",
    "    weight = float(input('請輸入體重(40~170)(kg):'))\n",
    "    if weight<40 or weight>170:\n",
    "        raise Exception(\"體重必需大於40同時小於170\")\n",
    "    bmi = weight / (height / 100) ** 2\n",
    "    \n",
    "BMI = int(input(\"BMI:\"))\n",
    "\n",
    "if  BMI<27:\n",
    "    result = '過重'\n",
    "elif BMI<30:\n",
    "    result = '輕度肥胖'\n",
    "elif BMI<35:\n",
    "    result = '中度肥胖'\n",
    "else:\n",
    "    result = '重度肥胖'\n",
    "    \n",
    "print(f'{name}, 您的BMI: {round(bmi,ndigits=2)}')\n",
    " print(f'您的體重: {result}')\n",
    "except Exception as e:\n",
    "    print(f'錯誤: {e}')\n",
    "\n"
   ]
  }
 ],
 "metadata": {
  "kernelspec": {
   "display_name": "Python 3",
   "language": "python",
   "name": "python3"
  },
  "language_info": {
   "codemirror_mode": {
    "name": "ipython",
    "version": 3
   },
   "file_extension": ".py",
   "mimetype": "text/x-python",
   "name": "python",
   "nbconvert_exporter": "python",
   "pygments_lexer": "ipython3",
   "version": "3.10.14"
  }
 },
 "nbformat": 4,
 "nbformat_minor": 2
}
