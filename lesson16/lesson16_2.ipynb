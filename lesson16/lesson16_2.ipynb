{
 "cells": [
  {
   "cell_type": "code",
   "execution_count": null,
   "metadata": {},
   "outputs": [],
   "source": [
    "#list comprehension->快速建立list\n",
    "[f'{num}號' for num in range(1,51)]"
   ]
  },
  {
   "cell_type": "code",
   "execution_count": null,
   "metadata": {},
   "outputs": [],
   "source": [
    "import numpy as np\n",
    "import pandas as pd\n",
    "array_2d = np.random.randint(50,100,size=(50,5))\n",
    "df1 = pd.DataFrame(array_2d,\n",
    "             columns=['國文','英文','數學','地理','社會'],\n",
    "             index = [f'{num}號' for num in range(1,51)]\n",
    "             )\n",
    "df1"
   ]
  },
  {
   "cell_type": "code",
   "execution_count": null,
   "metadata": {},
   "outputs": [],
   "source": [
    "#從dataFrame取出ndarray\n",
    "df1.values"
   ]
  },
  {
   "cell_type": "code",
   "execution_count": null,
   "metadata": {},
   "outputs": [],
   "source": [
    "#dataFrame[欄位名稱] subscript\n",
    "df1['國文'], df1['英文']"
   ]
  },
  {
   "cell_type": "code",
   "execution_count": null,
   "metadata": {},
   "outputs": [],
   "source": [
    "#Series的選取,使用subscript\n",
    "#Series[數值的index]\n",
    "df1['國文'][0]\n",
    "#Series[數值的slice]\n",
    "df1['國文'][:5]\n",
    "#Series[字串的index]\n",
    "df1['國文']['1號']\n",
    "#Series[[字串,字串,字串]]\n",
    "df1['國文'][['1號','2號','3號']]"
   ]
  },
  {
   "cell_type": "code",
   "execution_count": null,
   "metadata": {},
   "outputs": [],
   "source": [
    "#dataFrame的subscripts\n",
    "#dataFrame[欄位名稱]\n",
    "df1['國文']"
   ]
  },
  {
   "cell_type": "code",
   "execution_count": null,
   "metadata": {},
   "outputs": [],
   "source": [
    "#dataFrame的subscripts\n",
    "#dataFrame[[欄位名稱,欄位名稱]]\n",
    "df1[['國文','英文']]"
   ]
  },
  {
   "cell_type": "code",
   "execution_count": null,
   "metadata": {},
   "outputs": [],
   "source": []
  },
  {
   "cell_type": "code",
   "execution_count": null,
   "metadata": {},
   "outputs": [],
   "source": [
    "#dataFrame的列的選取\n",
    "#loc[字串]\n",
    "#iloc[數值]"
   ]
  },
  {
   "cell_type": "code",
   "execution_count": null,
   "metadata": {},
   "outputs": [],
   "source": [
    "#選取1號\n",
    "#loc[字串]\n",
    "df1.loc['1號']"
   ]
  },
  {
   "cell_type": "code",
   "execution_count": null,
   "metadata": {},
   "outputs": [],
   "source": [
    "#選取1號,2號,3號\n",
    "#loc[[字串,字串]]\n",
    "df1.loc[['1號','2號','3號']]"
   ]
  },
  {
   "cell_type": "code",
   "execution_count": null,
   "metadata": {},
   "outputs": [],
   "source": [
    "#選取前5位\n",
    "#iloc[index:index]\n",
    "df1.iloc[:5]"
   ]
  },
  {
   "cell_type": "code",
   "execution_count": null,
   "metadata": {},
   "outputs": [],
   "source": [
    "#選取後5位\n",
    "#iloc[數值索引:數值索引]\n",
    "df1.iloc[-5:]"
   ]
  },
  {
   "cell_type": "code",
   "execution_count": null,
   "metadata": {},
   "outputs": [],
   "source": []
  }
 ],
 "metadata": {
  "language_info": {
   "name": "python"
  }
 },
 "nbformat": 4,
 "nbformat_minor": 2
}
