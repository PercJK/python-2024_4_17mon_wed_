{
 "cells": [
  {
   "cell_type": "code",
   "execution_count": 2,
   "metadata": {},
   "outputs": [
    {
     "data": {
      "text/plain": [
       "array([[55, 85, 75, 85, 65],\n",
       "       [50, 98, 87, 57, 84],\n",
       "       [60, 69, 81, 68, 61],\n",
       "       [83, 79, 80, 52, 69],\n",
       "       [87, 88, 93, 99, 73],\n",
       "       [91, 70, 90, 69, 65],\n",
       "       [71, 80, 92, 84, 59],\n",
       "       [93, 76, 80, 80, 83],\n",
       "       [67, 77, 77, 53, 78],\n",
       "       [71, 79, 93, 88, 92],\n",
       "       [63, 50, 54, 70, 85],\n",
       "       [95, 99, 78, 58, 50],\n",
       "       [59, 73, 69, 59, 60],\n",
       "       [83, 80, 85, 60, 82],\n",
       "       [66, 95, 80, 73, 65],\n",
       "       [59, 56, 59, 86, 89],\n",
       "       [96, 61, 66, 65, 98],\n",
       "       [72, 86, 66, 58, 83],\n",
       "       [66, 87, 57, 55, 71],\n",
       "       [62, 86, 55, 95, 96],\n",
       "       [79, 74, 75, 91, 89],\n",
       "       [99, 94, 78, 54, 96],\n",
       "       [92, 69, 69, 76, 72],\n",
       "       [69, 59, 87, 83, 86],\n",
       "       [94, 96, 56, 91, 83],\n",
       "       [68, 74, 82, 61, 66],\n",
       "       [94, 87, 53, 89, 63],\n",
       "       [61, 51, 58, 82, 57],\n",
       "       [83, 58, 90, 77, 84],\n",
       "       [98, 73, 95, 70, 58],\n",
       "       [94, 81, 99, 75, 66],\n",
       "       [61, 57, 51, 90, 74],\n",
       "       [84, 82, 89, 50, 86],\n",
       "       [71, 93, 80, 77, 57],\n",
       "       [88, 95, 69, 72, 62],\n",
       "       [97, 67, 87, 86, 75],\n",
       "       [57, 66, 50, 98, 94],\n",
       "       [63, 55, 74, 55, 67],\n",
       "       [73, 97, 59, 95, 74],\n",
       "       [68, 84, 57, 83, 93],\n",
       "       [91, 99, 59, 78, 83],\n",
       "       [85, 76, 75, 69, 93],\n",
       "       [64, 61, 96, 97, 73],\n",
       "       [77, 63, 69, 51, 51],\n",
       "       [86, 57, 68, 94, 50],\n",
       "       [72, 94, 51, 99, 62],\n",
       "       [99, 89, 71, 89, 61],\n",
       "       [90, 57, 88, 56, 75],\n",
       "       [63, 55, 53, 51, 62],\n",
       "       [94, 62, 73, 96, 77]])"
      ]
     },
     "execution_count": 2,
     "metadata": {},
     "output_type": "execute_result"
    }
   ],
   "source": [
    "import numpy as np\n",
    "array_2d = np.random.randint(50,100,size=(50,5))\n",
    "array_2d"
   ]
  },
  {
   "cell_type": "code",
   "execution_count": null,
   "metadata": {},
   "outputs": [],
   "source": [
    "#list comprehension->快速建立list\n",
    "[f'{num}號' for num in range(1,51)]"
   ]
  },
  {
   "cell_type": "code",
   "execution_count": 1,
   "metadata": {},
   "outputs": [
    {
     "ename": "ModuleNotFoundError",
     "evalue": "No module named 'pandas'",
     "output_type": "error",
     "traceback": [
      "\u001b[1;31m---------------------------------------------------------------------------\u001b[0m",
      "\u001b[1;31mModuleNotFoundError\u001b[0m                       Traceback (most recent call last)",
      "Cell \u001b[1;32mIn[1], line 2\u001b[0m\n\u001b[0;32m      1\u001b[0m \u001b[38;5;28;01mimport\u001b[39;00m \u001b[38;5;21;01mnumpy\u001b[39;00m \u001b[38;5;28;01mas\u001b[39;00m \u001b[38;5;21;01mnp\u001b[39;00m\n\u001b[1;32m----> 2\u001b[0m \u001b[38;5;28;01mimport\u001b[39;00m \u001b[38;5;21;01mpandas\u001b[39;00m \u001b[38;5;28;01mas\u001b[39;00m \u001b[38;5;21;01mpd\u001b[39;00m\n\u001b[0;32m      3\u001b[0m array_2d \u001b[38;5;241m=\u001b[39m np\u001b[38;5;241m.\u001b[39mrandom\u001b[38;5;241m.\u001b[39mrandint(\u001b[38;5;241m50\u001b[39m,\u001b[38;5;241m100\u001b[39m,size\u001b[38;5;241m=\u001b[39m(\u001b[38;5;241m50\u001b[39m,\u001b[38;5;241m5\u001b[39m))\n\u001b[0;32m      4\u001b[0m df1 \u001b[38;5;241m=\u001b[39m pd\u001b[38;5;241m.\u001b[39mDataFrame(array_2d,\n\u001b[0;32m      5\u001b[0m              columns\u001b[38;5;241m=\u001b[39m[\u001b[38;5;124m'\u001b[39m\u001b[38;5;124m國文\u001b[39m\u001b[38;5;124m'\u001b[39m,\u001b[38;5;124m'\u001b[39m\u001b[38;5;124m英文\u001b[39m\u001b[38;5;124m'\u001b[39m,\u001b[38;5;124m'\u001b[39m\u001b[38;5;124m數學\u001b[39m\u001b[38;5;124m'\u001b[39m,\u001b[38;5;124m'\u001b[39m\u001b[38;5;124m地理\u001b[39m\u001b[38;5;124m'\u001b[39m,\u001b[38;5;124m'\u001b[39m\u001b[38;5;124m社會\u001b[39m\u001b[38;5;124m'\u001b[39m],\n\u001b[0;32m      6\u001b[0m              index \u001b[38;5;241m=\u001b[39m [\u001b[38;5;124mf\u001b[39m\u001b[38;5;124m'\u001b[39m\u001b[38;5;132;01m{\u001b[39;00mnum\u001b[38;5;132;01m}\u001b[39;00m\u001b[38;5;124m號\u001b[39m\u001b[38;5;124m'\u001b[39m \u001b[38;5;28;01mfor\u001b[39;00m num \u001b[38;5;129;01min\u001b[39;00m \u001b[38;5;28mrange\u001b[39m(\u001b[38;5;241m1\u001b[39m,\u001b[38;5;241m51\u001b[39m)]\n\u001b[0;32m      7\u001b[0m              )\n",
      "\u001b[1;31mModuleNotFoundError\u001b[0m: No module named 'pandas'"
     ]
    }
   ],
   "source": [
    "import numpy as np\n",
    "import pandas as pd\n",
    "array_2d = np.random.randint(50,100,size=(50,5))\n",
    "df1 = pd.DataFrame(array_2d,\n",
    "             columns=['國文','英文','數學','地理','社會'],\n",
    "             index = [f'{num}號' for num in range(1,51)]\n",
    "             )\n",
    "df1"
   ]
  },
  {
   "cell_type": "code",
   "execution_count": null,
   "metadata": {},
   "outputs": [],
   "source": [
    "#從dataFrame取出ndarray\n",
    "df1.values"
   ]
  },
  {
   "cell_type": "code",
   "execution_count": null,
   "metadata": {},
   "outputs": [],
   "source": [
    "#dataFrame[欄位名稱] subscript\n",
    "df1['國文'], df1['英文']"
   ]
  },
  {
   "cell_type": "code",
   "execution_count": null,
   "metadata": {},
   "outputs": [],
   "source": [
    "#Series的選取,使用subscript\n",
    "#Series[數值的index]\n",
    "df1['國文'][0]\n",
    "#Series[數值的slice]\n",
    "df1['國文'][:5]\n",
    "#Series[字串的index]\n",
    "df1['國文']['1號']\n",
    "#Series[[字串,字串,字串]]\n",
    "df1['國文'][['1號','2號','3號']]"
   ]
  },
  {
   "cell_type": "code",
   "execution_count": null,
   "metadata": {},
   "outputs": [],
   "source": [
    "#dataFrame的subscripts\n",
    "#dataFrame[欄位名稱]\n",
    "df1['國文']"
   ]
  },
  {
   "cell_type": "code",
   "execution_count": null,
   "metadata": {},
   "outputs": [],
   "source": [
    "#dataFrame的subscripts\n",
    "#dataFrame[[欄位名稱,欄位名稱]]\n",
    "df1[['國文','英文']]"
   ]
  },
  {
   "cell_type": "code",
   "execution_count": null,
   "metadata": {},
   "outputs": [],
   "source": [
    "#dataFrame的列的選取\n",
    "#loc[字串]\n",
    "#iloc[數值]"
   ]
  },
  {
   "cell_type": "code",
   "execution_count": null,
   "metadata": {},
   "outputs": [],
   "source": [
    "#選取1號\n",
    "#loc[字串]\n",
    "df1.loc['1號']"
   ]
  },
  {
   "cell_type": "code",
   "execution_count": null,
   "metadata": {},
   "outputs": [],
   "source": [
    "#選取1號,2號,3號\n",
    "#loc[[字串,字串]]\n",
    "df1.loc[['1號','2號','3號']]"
   ]
  },
  {
   "cell_type": "code",
   "execution_count": null,
   "metadata": {},
   "outputs": [],
   "source": [
    "#選取前5位\n",
    "#iloc[index:index]\n",
    "df1.iloc[:5]"
   ]
  },
  {
   "cell_type": "code",
   "execution_count": null,
   "metadata": {},
   "outputs": [],
   "source": [
    "#選取後5位\n",
    "#iloc[數值索引:數值索引]\n",
    "df1.iloc[-5:]"
   ]
  },
  {
   "cell_type": "code",
   "execution_count": null,
   "metadata": {},
   "outputs": [],
   "source": []
  }
 ],
 "metadata": {
  "kernelspec": {
   "display_name": "base",
   "language": "python",
   "name": "python3"
  },
  "language_info": {
   "codemirror_mode": {
    "name": "ipython",
    "version": 3
   },
   "file_extension": ".py",
   "mimetype": "text/x-python",
   "name": "python",
   "nbconvert_exporter": "python",
   "pygments_lexer": "ipython3",
   "version": "3.12.3"
  }
 },
 "nbformat": 4,
 "nbformat_minor": 2
}
