{
 "cells": [
  {
   "cell_type": "code",
   "execution_count": null,
   "metadata": {},
   "outputs": [],
   "source": [
    "import numpy as np\n",
    "import pandas as pd\n",
    "array_2d = np.random.randint(50,100,size=(50,5))\n",
    "df1 = pd.DataFrame(array_2d,\n",
    "             columns=['國文','英文','數學','地理','社會'],\n",
    "             index = [f'{num}號' for num in range(1,51)]\n",
    "             )\n",
    "df1"
   ]
  },
  {
   "cell_type": "code",
   "execution_count": null,
   "metadata": {},
   "outputs": [],
   "source": [
    "total_se = df1['國文'] + df1['英文'] + df1['數學'] + df1['地理'] + df1['社會']"
   ]
  },
  {
   "cell_type": "code",
   "execution_count": null,
   "metadata": {},
   "outputs": [],
   "source": [
    "average_se = total_se / 5\n",
    "average_se"
   ]
  },
  {
   "cell_type": "code",
   "execution_count": null,
   "metadata": {},
   "outputs": [],
   "source": []
  }
 ],
 "metadata": {
  "language_info": {
   "name": "python"
  }
 },
 "nbformat": 4,
 "nbformat_minor": 2
}
