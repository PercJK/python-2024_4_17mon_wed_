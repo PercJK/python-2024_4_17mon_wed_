{
 "cells": [
  {
   "cell_type": "code",
   "execution_count": 1,
   "metadata": {},
   "outputs": [
    {
     "data": {
      "text/plain": [
       "152.0"
      ]
     },
     "execution_count": 1,
     "metadata": {},
     "output_type": "execute_result"
    }
   ],
   "source": [
    "#type hint,function一定要加型別的提示\n",
    "def add(a:int,b:int)->int:\n",
    "    return a + b\n",
    "\n",
    "def multiply(a:int | float,b:int | float)->int | float:\n",
    "    return a * b\n",
    "\n",
    "add(5,10)\n",
    "multiply(76,2.0)"
   ]
  },
  {
   "cell_type": "markdown",
   "metadata": {},
   "source": [
    "### 輸入:\n",
    "請輸入姓名:xxxx\n",
    "請輸入身高(cm):\n",
    "請輸入體重(kg):\n",
    "請使用自訂的function\n",
    "建立bmi的function,會傳出bmi\n",
    "建立get_status,會傳出字串\n",
    "可以使用pypi\n",
    "\n",
    "### 輸出:\n",
    "xxxx,您的BMI:25.52\n",
    "xxxx,您的體重過重\n",
    "錯誤:\n",
    "格式錯誤:xxxxxxxxxxxxx"
   ]
  },
  {
   "cell_type": "code",
   "execution_count": null,
   "metadata": {},
   "outputs": [],
   "source": [
    "import pyinputplus as pyip\n",
    "\n",
    "def calc_bmi(height: float, weight: float) -> float:\n",
    "    return weight / (height / 100) ** 2\n",
    "\n",
    "def get_status(bmi: float) -> str:\n",
    "    if bmi < 18.5:\n",
    "        result = '過輕'\n",
    "    elif bmi < 24:\n",
    "        result = '正常'\n",
    "    elif bmi < 27:\n",
    "        result = '過重'\n",
    "    elif bmi < 30:\n",
    "        result = '輕度肥胖'\n",
    "    elif bmi < 35:\n",
    "        result = '中度肥胖'\n",
    "    else:\n",
    "        result = '重度肥胖'\n",
    "    return result\n",
    "\n",
    "name:str = input('請輸入姓名: ')\n",
    "height:float = pyip.inputFloat('請輸入身高(120~230)(cm): ', min=120, max=230)\n",
    "weight:float = pyip.inputFloat('請輸入體重(40~170)(kg): ', min=40, max=170)\n",
    "\n",
    "bmi:float = calc_bmi(height, weight)\n",
    "status:str = get_status(bmi)\n",
    "\n",
    "print(f'\\n{name}, 您的BMI: {bmi:.2f}')\n",
    "print(f'您的體重: {status}')"
   ]
  }
 ],
 "metadata": {
  "kernelspec": {
   "display_name": "Python 3",
   "language": "python",
   "name": "python3"
  },
  "language_info": {
   "codemirror_mode": {
    "name": "ipython",
    "version": 3
   },
   "file_extension": ".py",
   "mimetype": "text/x-python",
   "name": "python",
   "nbconvert_exporter": "python",
   "pygments_lexer": "ipython3",
   "version": "3.10.14"
  }
 },
 "nbformat": 4,
 "nbformat_minor": 2
}
