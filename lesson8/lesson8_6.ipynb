{
 "cells": [
  {
   "cell_type": "code",
   "execution_count": 1,
   "metadata": {},
   "outputs": [],
   "source": [
    "def menu(wine:str, entree:str, dessert:str)->None:\n",
    "    print(f\"主餐:{entree}\")\n",
    "    print(f\"酒類:{wine}\")\n",
    "    print(f\"甜點:{dessert}\")"
   ]
  },
  {
   "cell_type": "code",
   "execution_count": 2,
   "metadata": {},
   "outputs": [
    {
     "name": "stdout",
     "output_type": "stream",
     "text": [
      "主餐:牛排\n",
      "酒類:白酒\n",
      "甜點:蛋糕\n",
      "主餐:牛排\n",
      "酒類:紅酒\n",
      "甜點:冰淇淋\n"
     ]
    }
   ],
   "source": [
    "#引數值的呼叫,必需依據參數的順序\n",
    "menu('白酒','牛排','蛋糕')\n",
    "menu('紅酒','牛排','冰淇淋')"
   ]
  },
  {
   "cell_type": "code",
   "execution_count": 4,
   "metadata": {},
   "outputs": [
    {
     "name": "stdout",
     "output_type": "stream",
     "text": [
      "主餐:牛排\n",
      "酒類:白酒\n",
      "甜點:蛋糕\n"
     ]
    }
   ],
   "source": [
    "def menu(wine:str, entree:str, dessert:str)->None:\n",
    "    print(f\"主餐:{entree}\")\n",
    "    print(f\"酒類:{wine}\")\n",
    "    print(f\"甜點:{dessert}\")\n",
    "\n",
    "#引數名稱的呼叫,可以不依照順序\n",
    "menu(wine='白酒',entree='牛排',dessert='蛋糕')"
   ]
  },
  {
   "cell_type": "code",
   "execution_count": 5,
   "metadata": {},
   "outputs": [
    {
     "name": "stdout",
     "output_type": "stream",
     "text": [
      "主餐:牛排\n",
      "酒類:白酒\n",
      "甜點:蛋糕\n",
      "===========\n",
      "主餐:牛排\n",
      "酒類:白酒\n",
      "甜點:蛋糕\n"
     ]
    }
   ],
   "source": [
    "def menu(wine:str, entree:str, dessert:str)->None:\n",
    "    print(f\"主餐:{entree}\")\n",
    "    print(f\"酒類:{wine}\")\n",
    "    print(f\"甜點:{dessert}\")\n",
    "\n",
    "#引數名稱的呼叫,可以不依照順序\n",
    "menu(wine='白酒',entree='牛排',dessert='蛋糕')\n",
    "print(\"===========\")\n",
    "menu(entree='牛排',dessert='蛋糕',wine='白酒')"
   ]
  },
  {
   "cell_type": "code",
   "execution_count": 12,
   "metadata": {},
   "outputs": [
    {
     "name": "stdout",
     "output_type": "stream",
     "text": [
      "主餐:牛排\n",
      "酒類:白酒\n",
      "甜點:蛋糕\n",
      "==============\n",
      "主餐:牛排\n",
      "酒類:白酒\n",
      "甜點:蛋糕\n"
     ]
    }
   ],
   "source": [
    "def menu(wine:str, entree:str, dessert:str)->None:\n",
    "    print(f\"主餐:{entree}\")\n",
    "    print(f\"酒類:{wine}\")\n",
    "    print(f\"甜點:{dessert}\")\n",
    "\n",
    "#混合呼叫\n",
    "#引數值呼叫+引數名稱的呼叫\n",
    "#引數值呼叫要依順序,引數名稱呼叫可不依順序\n",
    "menu('白酒',dessert='蛋糕',entree='牛排')\n",
    "print(\"==============\")\n",
    "menu('白酒','牛排',dessert='蛋糕')"
   ]
  },
  {
   "cell_type": "code",
   "execution_count": 13,
   "metadata": {},
   "outputs": [
    {
     "name": "stdout",
     "output_type": "stream",
     "text": [
      "主餐:雞排\n",
      "酒類:紅酒\n",
      "甜點:奶昔\n",
      "==========\n",
      "主餐:雞排\n",
      "酒類:紅酒\n",
      "甜點:奶昔\n",
      "==============\n",
      "主餐:雞排\n",
      "酒類:紅酒\n",
      "甜點:蛋糕\n"
     ]
    }
   ],
   "source": [
    "#參數如果有default value\n",
    "#參數如果有default value,一定要定義在最後面\n",
    "def menu(wine:str, entree:str, dessert:str='奶昔')->None:\n",
    "    print(f\"主餐:{entree}\")\n",
    "    print(f\"酒類:{wine}\")\n",
    "    print(f\"甜點:{dessert}\")\n",
    "\n",
    "#引數值呼叫\n",
    "menu('紅酒','雞排')\n",
    "print(\"==========\")\n",
    "#引數名稱呼叫\n",
    "menu(entree='雞排',wine='紅酒')\n",
    "print(\"==============\")\n",
    "#混合呼叫\n",
    "menu('紅酒','雞排',dessert='蛋糕')\n",
    "\n",
    "#menu,呼叫時最少需要2個引數"
   ]
  },
  {
   "cell_type": "code",
   "execution_count": 16,
   "metadata": {},
   "outputs": [
    {
     "name": "stdout",
     "output_type": "stream",
     "text": [
      "()\n",
      "=========\n",
      "('雞排',)\n",
      "=========\n",
      "('雞排', '紅酒')\n",
      "==========\n",
      "('雞排', '紅酒', '奶昔')\n"
     ]
    }
   ],
   "source": [
    "#沒有限定數量的引數值呼叫\n",
    "def menu(*kind:str)->None:\n",
    "    print(kind)\n",
    "\n",
    "menu()\n",
    "print(\"=========\")\n",
    "menu('雞排')\n",
    "print(\"=========\")\n",
    "menu('雞排','紅酒')\n",
    "print(\"==========\")\n",
    "menu('雞排','紅酒','奶昔')"
   ]
  },
  {
   "cell_type": "code",
   "execution_count": 14,
   "metadata": {},
   "outputs": [
    {
     "name": "stdout",
     "output_type": "stream",
     "text": [
      "{}\n",
      "=========\n",
      "{'entree': '雞排'}\n",
      "=========\n",
      "{'entree': '雞排', 'wine': '紅酒'}\n",
      "==========\n",
      "{'entree': '雞排', 'wind': '紅酒', 'dessert': '奶昔'}\n"
     ]
    }
   ],
   "source": [
    "#沒有限定數量的引數名稱呼叫\n",
    "def menu(**kind:str)->None:\n",
    "    print(kind)\n",
    "\n",
    "menu()\n",
    "print(\"=========\")\n",
    "menu(entree='雞排')\n",
    "print(\"=========\")\n",
    "menu(entree='雞排',wine='紅酒')\n",
    "print(\"==========\")\n",
    "menu(entree='雞排',wind='紅酒',dessert='奶昔')"
   ]
  },
  {
   "cell_type": "code",
   "execution_count": 17,
   "metadata": {},
   "outputs": [
    {
     "name": "stdout",
     "output_type": "stream",
     "text": [
      "(1, 2, 3, 5, 4)\n",
      "{'one': 1, 'two': 2, 'three': 3}\n"
     ]
    }
   ],
   "source": [
    "def menu(*args:str,**kwargs:str)->None:\n",
    "    print(args)\n",
    "    print(kwargs)\n",
    "\n",
    "menu(1,2,3,5,4,one=1,two=2,three=3)"
   ]
  },
  {
   "cell_type": "code",
   "execution_count": 18,
   "metadata": {},
   "outputs": [
    {
     "name": "stdout",
     "output_type": "stream",
     "text": [
      "1,2,4,8,9\n"
     ]
    }
   ],
   "source": [
    "print(1, 2, 4, 8, 9,sep=',')"
   ]
  },
  {
   "cell_type": "code",
   "execution_count": 19,
   "metadata": {},
   "outputs": [
    {
     "name": "stdout",
     "output_type": "stream",
     "text": [
      "1 2 4 8 9"
     ]
    }
   ],
   "source": [
    "print(1, 2, 4, 8, 9,end='')"
   ]
  },
  {
   "cell_type": "code",
   "execution_count": 1,
   "metadata": {},
   "outputs": [
    {
     "name": "stdout",
     "output_type": "stream",
     "text": [
      "請輸入身高(120~230)(cm): 請輸入體重(40~170)(kg): \n",
      "Joan, 您的BMI: 24.44\n",
      "您的體重: 過重\n"
     ]
    }
   ],
   "source": [
    "import pyinputplus as pyip\n",
    "\n",
    "def calc_bmi(height: float, weight: float) -> float:\n",
    "    return weight / (height / 100) ** 2\n",
    "\n",
    "def get_status(bmi: float) -> str:\n",
    "    if bmi < 18.5:\n",
    "        result = '過輕'\n",
    "    elif bmi < 24:\n",
    "        result = '正常'\n",
    "    elif bmi < 27:\n",
    "        result = '過重'\n",
    "    elif bmi < 30:\n",
    "        result = '輕度肥胖'\n",
    "    elif bmi < 35:\n",
    "        result = '中度肥胖'\n",
    "    else:\n",
    "        result = '重度肥胖'\n",
    "    return result\n",
    "\n",
    "name:str = input('請輸入姓名: ')\n",
    "height:float = pyip.inputFloat('請輸入身高(120~230)(cm): ', min=120, max=230)\n",
    "weight:float = pyip.inputFloat('請輸入體重(40~170)(kg): ', min=40, max=170)\n",
    "\n",
    "bmi:float = calc_bmi(height, weight)\n",
    "status:str = get_status(bmi)\n",
    "\n",
    "print(f'\\n{name}, 您的BMI: {bmi:.2f}')\n",
    "print(f'您的體重: {status}')"
   ]
  }
 ],
 "metadata": {
  "kernelspec": {
   "display_name": "Python 3",
   "language": "python",
   "name": "python3"
  },
  "language_info": {
   "codemirror_mode": {
    "name": "ipython",
    "version": 3
   },
   "file_extension": ".py",
   "mimetype": "text/x-python",
   "name": "python",
   "nbconvert_exporter": "python",
   "pygments_lexer": "ipython3",
   "version": "3.10.14"
  }
 },
 "nbformat": 4,
 "nbformat_minor": 2
}
