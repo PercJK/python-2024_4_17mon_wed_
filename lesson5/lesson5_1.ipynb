{
 "cells": [
  {
   "cell_type": "code",
   "execution_count": 3,
   "metadata": {},
   "outputs": [
    {
     "data": {
      "text/plain": [
       "False"
      ]
     },
     "execution_count": 3,
     "metadata": {},
     "output_type": "execute_result"
    }
   ],
   "source": [
    "5 == 5\n",
    "5 != 5"
   ]
  },
  {
   "cell_type": "code",
   "execution_count": 12,
   "metadata": {},
   "outputs": [
    {
     "name": "stdout",
     "output_type": "stream",
     "text": [
      "此人大於18 years old\n",
      "可以考駕照\n",
      "有投票權\n",
      "程式結束\n"
     ]
    }
   ],
   "source": [
    "age:int = 20\n",
    "if(age >= 18):\n",
    "    print(\"此人大於18 years old\")\n",
    "    print(\"可以考駕照\")\n",
    "    print(\"有投票權\")\n",
    "print(\"程式結束\")"
   ]
  },
  {
   "cell_type": "code",
   "execution_count": 13,
   "metadata": {},
   "outputs": [
    {
     "name": "stdout",
     "output_type": "stream",
     "text": [
      "梯形的上底10公分, 下底20公分, 高30公分\n",
      "梯形的面積:450.0平方公分\n"
     ]
    }
   ],
   "source": [
    "top = eval(input('請輸入梯形的上底(公分):'))\n",
    "bottom = eval(input('請輸入梯形的下底(公分):'))\n",
    "height = eval(input('請輸入梯形的高(公分):'))\n",
    "\n",
    "area = round((top + bottom) * height / 2, ndigits=2)\n",
    "print(f'梯形的上底{top}公分, 下底{bottom}公分, 高{height}公分')\n",
    "print(f'梯形的面積:{area}平方公分')"
   ]
  },
  {
   "cell_type": "code",
   "execution_count": 14,
   "metadata": {},
   "outputs": [
    {
     "data": {
      "text/plain": [
       "True"
      ]
     },
     "execution_count": 14,
     "metadata": {},
     "output_type": "execute_result"
    }
   ],
   "source": [
    "5 > 3\n",
    "3 > 5\n",
    "5 >= 5"
   ]
  },
  {
   "cell_type": "code",
   "execution_count": null,
   "metadata": {},
   "outputs": [
    {
     "name": "stdout",
     "output_type": "stream",
     "text": [
      "此人大於18 years old\n",
      "可以考駕照\n",
      "有投票權\n",
      "程式結束\n"
     ]
    }
   ],
   "source": [
    "age:int = 20\n",
    "if (age >= 18):\n",
    "    print(\"此人大於18 years old\")\n",
    "    print(\"可以考駕照\")\n",
    "    print(\"有投票權\")\n",
    "print(\"程式結束\")"
   ]
  },
  {
   "cell_type": "code",
   "execution_count": null,
   "metadata": {},
   "outputs": [
    {
     "ename": "SyntaxError",
     "evalue": "invalid syntax (1514658739.py, line 3)",
     "output_type": "error",
     "traceback": [
      "\u001b[0;36m  Cell \u001b[0;32mIn[20], line 3\u001b[0;36m\u001b[0m\n\u001b[0;31m    if is add == 'y'\u001b[0m\n\u001b[0m       ^\u001b[0m\n\u001b[0;31mSyntaxError\u001b[0m\u001b[0;31m:\u001b[0m invalid syntax\n"
     ]
    }
   ],
   "source": [
    "score:int|float= int(input(\"請輸入學生分數(最高300分) \"))\n",
    "is_add:str = input(\"學生是否符合加分條件?(y,n)\")\n",
    "if is_add == 'y':\n",
    "    score *=1.05\n",
    "print(f'學生總分數是{round(score)}')   "
   ]
  },
  {
   "cell_type": "code",
   "execution_count": 21,
   "metadata": {},
   "outputs": [],
   "source": [
    "score:int|float = int(input(\"請輸入學生分數(最高300分)\"))\n",
    "is_add:str = input(\"學生是否符合加分條件?(y,n)\")\n",
    "if is_add == 'y':\n",
    "    score *= 1.05\n",
    "print(f'學生總分數是{round(score)}')"
   ]
  }
 ],
 "metadata": {
  "kernelspec": {
   "display_name": "Python 3",
   "language": "python",
   "name": "python3"
  },
  "language_info": {
   "codemirror_mode": {
    "name": "ipython",
    "version": 3
   },
   "file_extension": ".py",
   "mimetype": "text/x-python",
   "name": "python",
   "nbconvert_exporter": "python",
   "pygments_lexer": "ipython3",
   "version": "3.10.14"
  }
 },
 "nbformat": 4,
 "nbformat_minor": 2
}
