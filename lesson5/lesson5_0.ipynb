{
 "cells": [
  {
   "cell_type": "code",
   "execution_count": 1,
   "metadata": {},
   "outputs": [
    {
     "name": "stdout",
     "output_type": "stream",
     "text": [
      "梯形的上底13.2公分, 下底45.7公分, 高23.1公分\n",
      "梯形的面積:680.3平方公分\n"
     ]
    }
   ],
   "source": [
    "top = eval(input('請輸入梯形的上底(公分):'))\n",
    "bottom = eval(input('請輸入梯形的下底(公分):'))\n",
    "height = eval(input('請輸入梯形的高(公分):'))\n",
    "\n",
    "area = round((top + bottom) * height / 2, ndigits=2)\n",
    "print(f'梯形的上底{top}公分, 下底{bottom}公分, 高{height}公分')\n",
    "print(f'梯形的面積:{area}平方公分')"
   ]
  },
  {
   "cell_type": "markdown",
   "metadata": {},
   "source": [
    "### lesson4作業梯形面積"
   ]
  },
  {
   "cell_type": "code",
   "execution_count": 19,
   "metadata": {},
   "outputs": [
    {
     "name": "stdout",
     "output_type": "stream",
     "text": [
      "上底10公分, 下底20公分, 高30公分\n",
      "梯形面積:450.0平方公分\n"
     ]
    }
   ],
   "source": [
    "top = eval(input(\"請輸入上底(公分):\"))\n",
    "bottom = eval(input(\"請輸入下底(公分):\"))\n",
    "height = eval(input(\"請輸入高(公分):\"))       \n",
    "\n",
    "area = round((top + bottom) * height / 2, ndigits=2)\n",
    "print(f'上底{top}公分, 下底{bottom}公分, 高{height}公分')\n",
    "print(f'梯形面積:{area}平方公分')"
   ]
  },
  {
   "cell_type": "markdown",
   "metadata": {},
   "source": [
    "### lesson5作業BMI計算"
   ]
  },
  {
   "cell_type": "code",
   "execution_count": 5,
   "metadata": {
    "metadata": {}
   },
   "outputs": [
    {
     "name": "stdout",
     "output_type": "stream",
     "text": [
      "體重52公斤, 身高1.55公尺\n",
      "BMI值:21.6\n"
     ]
    }
   ],
   "source": [
    "weight = eval(input('請輸入體重(公斤):')) \n",
    "height  = eval(input('請輸入身高(公尺):'))\n",
    "\n",
    "\n",
    "BMI = round( weight / (height**2) , ndigits=1)\n",
    "print(f'體重{weight}公斤, 身高{height}公尺')\n",
    "print(f'BMI值:{BMI}')"
   ]
  },
  {
   "cell_type": "code",
   "execution_count": 4,
   "metadata": {
    "metadata": {}
   },
   "outputs": [
    {
     "name": "stdout",
     "output_type": "stream",
     "text": [
      "格式錯誤: could not convert string to float: '24A'\n"
     ]
    }
   ],
   "source": [
    "try:\n",
    "    name = input('請輸入姓名:')\n",
    "    height = float(input('請輸入身高(cm):'))\n",
    "    weight = float(input('請輸入體重(kg):'))\n",
    "    \n",
    "    bmi = weight / ((height / 100) ** 2)\n",
    "    print(f'{name}, 您的BMI: {round(bmi, ndigits=2)}')\n",
    "\n",
    "except Exception as e:\n",
    "    print(f'格式錯誤: {e}')"
   ]
  }
 ],
 "metadata": {
  "kernelspec": {
   "display_name": "Python 3",
   "language": "python",
   "name": "python3"
  },
  "language_info": {
   "codemirror_mode": {
    "name": "ipython",
    "version": 3
   },
   "file_extension": ".py",
   "mimetype": "text/x-python",
   "name": "python",
   "nbconvert_exporter": "python",
   "pygments_lexer": "ipython3",
   "version": "3.10.14"
  }
 },
 "nbformat": 4,
 "nbformat_minor": 2
}
