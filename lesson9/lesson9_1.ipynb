{
 "cells": [
  {
   "cell_type": "code",
   "execution_count": 1,
   "metadata": {},
   "outputs": [
    {
     "name": "stdout",
     "output_type": "stream",
     "text": [
      "<class 'int'>\n"
     ]
    }
   ],
   "source": [
    "n = 5\n",
    "print(type(n))"
   ]
  },
  {
   "cell_type": "code",
   "execution_count": 2,
   "metadata": {},
   "outputs": [
    {
     "data": {
      "text/plain": [
       "__main__.Person"
      ]
     },
     "execution_count": 2,
     "metadata": {},
     "output_type": "execute_result"
    }
   ],
   "source": [
    "#自訂的類別\n",
    "class Person():\n",
    "    pass\n",
    "\n",
    "p1 = Person()\n",
    "type(p1)"
   ]
  },
  {
   "cell_type": "code",
   "execution_count": 3,
   "metadata": {},
   "outputs": [
    {
     "name": "stdout",
     "output_type": "stream",
     "text": [
      "p1的name:徐國堂\n",
      "p2的name:徐國堂\n"
     ]
    }
   ],
   "source": [
    "#自訂的attribute,必需有自訂的init\n",
    "\n",
    "class Person():\n",
    "    def __init__(self):\n",
    "        self.name = \"徐國堂\"\n",
    "\n",
    "p1 = Person()\n",
    "print(f'p1的name:{p1.name}')\n",
    "\n",
    "p2 = Person()\n",
    "print(f'p2的name:{p2.name}')\n"
   ]
  },
  {
   "cell_type": "code",
   "execution_count": 5,
   "metadata": {},
   "outputs": [
    {
     "name": "stdout",
     "output_type": "stream",
     "text": [
      "p1的name:徐國堂\n",
      "p2的name:Robert Hsu\n"
     ]
    }
   ],
   "source": [
    "#自訂的attribute,必需有自訂的init\n",
    "#自訂的init\n",
    "#建立attribute name\n",
    "\n",
    "class Person():\n",
    "    def __init__(self,n:str):\n",
    "        super().__init__()\n",
    "        self.name = n\n",
    "\n",
    "p1 = Person(\"徐國堂\")\n",
    "print(f'p1的name:{p1.name}')\n",
    "\n",
    "p2 = Person(n=\"Robert Hsu\")\n",
    "print(f'p2的name:{p2.name}')"
   ]
  },
  {
   "cell_type": "code",
   "execution_count": 6,
   "metadata": {},
   "outputs": [
    {
     "name": "stdout",
     "output_type": "stream",
     "text": [
      "p1的name:徐國堂\n",
      "<__main__.Person object at 0x7615a6c73340>\n",
      "p2的name:Robert Hsu\n",
      "<__main__.Person object at 0x7615a6c71780>\n"
     ]
    }
   ],
   "source": [
    "#自訂的attribute,必需有自訂的init\n",
    "#自訂的init\n",
    "#建立attribute name\n",
    "\n",
    "class Person():\n",
    "    def __init__(self,n:str):\n",
    "        super().__init__()\n",
    "        self.name = n\n",
    "\n",
    "p1 = Person(\"徐國堂\")\n",
    "print(f'p1的name:{p1.name}')\n",
    "print(p1)\n",
    "\n",
    "p2 = Person(n=\"Robert Hsu\")\n",
    "print(f'p2的name:{p2.name}')\n",
    "print(p2)"
   ]
  },
  {
   "cell_type": "code",
   "execution_count": 7,
   "metadata": {},
   "outputs": [
    {
     "name": "stdout",
     "output_type": "stream",
     "text": [
      "p1的name:徐國堂\n",
      "我是Person的實體,我的名字徐國堂\n",
      "p2的name:Robert Hsu\n",
      "我是Person的實體,我的名字Robert Hsu\n"
     ]
    }
   ],
   "source": [
    "#自訂的attribute,必需有自訂的init\n",
    "#自訂的init\n",
    "#建立attribute name\n",
    "#自訂的__repre__\n",
    "\n",
    "class Person():\n",
    "    def __init__(self,n:str):\n",
    "        super().__init__()\n",
    "        self.name = n\n",
    "\n",
    "    def __repr__(self):\n",
    "        return f\"我是Person的實體,我的名字{self.name}\"\n",
    "\n",
    "p1 = Person(\"徐國堂\")\n",
    "print(f'p1的name:{p1.name}')\n",
    "print(p1)\n",
    "\n",
    "p2 = Person(n=\"Robert Hsu\")\n",
    "print(f'p2的name:{p2.name}')\n",
    "print(p2)"
   ]
  },
  {
   "cell_type": "code",
   "execution_count": 10,
   "metadata": {},
   "outputs": [],
   "source": [
    "class Person():\n",
    "    def __init__(self,n:str):\n",
    "        super().__init__()\n",
    "        self.name = n\n",
    "\n",
    "    def __repr__(self):\n",
    "        return f\"我是Person的實體,我的名字{self.name}\"\n",
    "    \n",
    "class Student(Person):\n",
    "    pass"
   ]
  },
  {
   "cell_type": "code",
   "execution_count": 9,
   "metadata": {},
   "outputs": [
    {
     "ename": "TypeError",
     "evalue": "Person.__init__() missing 1 required positional argument: 'n'",
     "output_type": "error",
     "traceback": [
      "\u001b[0;31m---------------------------------------------------------------------------\u001b[0m",
      "\u001b[0;31mTypeError\u001b[0m                                 Traceback (most recent call last)",
      "Cell \u001b[0;32mIn[9], line 1\u001b[0m\n\u001b[0;32m----> 1\u001b[0m s1 \u001b[38;5;241m=\u001b[39m \u001b[43mStudent\u001b[49m\u001b[43m(\u001b[49m\u001b[43m)\u001b[49m\n\u001b[1;32m      2\u001b[0m \u001b[38;5;28mprint\u001b[39m(s1)\n",
      "\u001b[0;31mTypeError\u001b[0m: Person.__init__() missing 1 required positional argument: 'n'"
     ]
    }
   ],
   "source": [
    "s1 = Student()\n",
    "print(s1)"
   ]
  },
  {
   "cell_type": "code",
   "execution_count": 15,
   "metadata": {},
   "outputs": [],
   "source": [
    "class Person():\n",
    "    def __init__(self,n:str):\n",
    "        super().__init__()\n",
    "        self.name = n\n",
    "\n",
    "    def __repr__(self):\n",
    "        return f\"我是Person的實體,我的名字{self.name}\"\n",
    "    \n",
    "class Student(Person):\n",
    "    def __init__(self,n:str,s:int):\n",
    "        super().__init__(n)\n",
    "        self.scores = s\n",
    "    \n",
    "    def __repr__(self):\n",
    "        before = super().__repr__()\n",
    "        return f\"{before},總分為{self.scores}\""
   ]
  },
  {
   "cell_type": "code",
   "execution_count": 16,
   "metadata": {},
   "outputs": [
    {
     "name": "stdout",
     "output_type": "stream",
     "text": [
      "徐國堂 270\n",
      "我是Person的實體,我的名字徐國堂,總分為270\n",
      "Robert Hsu 290\n",
      "我是Person的實體,我的名字Robert Hsu,總分為290\n"
     ]
    }
   ],
   "source": [
    "s1 = Student(\"徐國堂\",270)\n",
    "print(s1.name, s1.scores)\n",
    "print(s1)\n",
    "\n",
    "s2 = Student(\"Robert Hsu\",290)\n",
    "print(s2.name, s2.scores)\n",
    "print(s2)"
   ]
  }
 ],
 "metadata": {
  "kernelspec": {
   "display_name": "Python 3",
   "language": "python",
   "name": "python3"
  },
  "language_info": {
   "codemirror_mode": {
    "name": "ipython",
    "version": 3
   },
   "file_extension": ".py",
   "mimetype": "text/x-python",
   "name": "python",
   "nbconvert_exporter": "python",
   "pygments_lexer": "ipython3",
   "version": "3.10.14"
  }
 },
 "nbformat": 4,
 "nbformat_minor": 2
}
